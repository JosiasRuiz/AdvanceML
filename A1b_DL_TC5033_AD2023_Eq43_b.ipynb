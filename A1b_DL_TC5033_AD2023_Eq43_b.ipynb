{
  "cells": [
    {
      "cell_type": "markdown",
      "metadata": {
        "id": "view-in-github",
        "colab_type": "text"
      },
      "source": [
        "<a href=\"https://colab.research.google.com/github/JosiasRuiz/AdvanceML/blob/main/A1b_DL_TC5033_AD2023_Eq43_b.ipynb\" target=\"_parent\"><img src=\"https://colab.research.google.com/assets/colab-badge.svg\" alt=\"Open In Colab\"/></a>"
      ]
    },
    {
      "cell_type": "markdown",
      "metadata": {
        "id": "8JpBly7RueCe"
      },
      "source": [
        "# TC 5033\n",
        "## Deep Learning\n",
        "## Fully Connected Deep Neural Networks\n",
        "\n",
        "#### Activity 1b: Implementing a Fully Connected Network for Kaggle ASL Dataset\n",
        "\n",
        "- Objective\n",
        "\n",
        "The aim of this part of the activity is to apply your understanding of Fully Connected Networks by implementing a multilayer network for the [Kaggle ASL (American Sign Language) dataset](https://www.kaggle.com/datasets/grassknoted/asl-alphabet). While you have been provided with a complete solution for a Fully Connected Network using Numpy for the MNIST dataset, you are encouraged to try to come up with the solution.\n",
        "\n",
        "- Instructions\n",
        "\n",
        "    This activity requires submission in teams of 3 or 4 members. Submissions from smaller or larger teams will not be accepted unless prior approval has been granted (only due to exceptional circumstances). While teamwork is encouraged, each member is expected to contribute individually to the assignment. The final submission should feature the best arguments and solutions from each team member. Only one person per team needs to submit the completed work, but it is imperative that the names of all team members are listed in a Markdown cell at the very beginning of the notebook (either the first or second cell). Failure to include all team member names will result in the grade being awarded solely to the individual who submitted the assignment, with zero points given to other team members (no exceptions will be made to this rule).\n",
        "\n",
        "    Load and Preprocess Data: You are provided a starter code to load the data. Be sure to understand the code.\n",
        "\n",
        "    Review MNIST Notebook (Optional): Before diving into this activity, you have the option to revisit the MNIST example to refresh your understanding of how to build a Fully Connected Network using Numpy.\n",
        "\n",
        "    Start Fresh: Although you can refer to the MNIST solution at any point, try to implement the network for the ASL dataset on your own. This will reinforce your learning and understanding of the architecture and mathematics involved.\n",
        "\n",
        "    Implement Forward and Backward Pass: Write the code to perform the forward and backward passes, keeping in mind the specific challenges and characteristics of the ASL dataset.\n",
        "    \n",
        "     Design the Network: Create the architecture of the Fully Connected Network tailored for the ASL dataset. Choose the number of hidden layers, neurons, and hyperparameters judiciously.\n",
        "\n",
        "    Train the Model: Execute the training loop, ensuring to track performance metrics such as loss and accuracy.\n",
        "\n",
        "    Analyze and Document: Use Markdown cells to document in detail the choices you made in terms of architecture and hyperparameters, you may use figures, equations, etc to aid in your explanations. Include any metrics that help justify these choices and discuss the model's performance.  \n",
        "\n",
        "- Evaluation Criteria\n",
        "\n",
        "    - Code Readability and Comments\n",
        "    - Appropriateness of chosen architecture and hyperparameters for the ASL dataset\n",
        "    - Performance of the model on the ASL dataset (at least 70% acc)\n",
        "    - Quality of Markdown documentation\n",
        "\n",
        "- Submission\n",
        "\n",
        "Submit this Jupyter Notebook in canvas with your complete solution, ensuring your code is well-commented and includes Markdown cells that explain your design choices, results, and any challenges you encountered.\n"
      ]
    },
    {
      "cell_type": "code",
      "execution_count": 32,
      "metadata": {
        "id": "bljqDw_mueCg",
        "colab": {
          "base_uri": "https://localhost:8080/"
        },
        "outputId": "e681fb35-1538-411a-90b1-1664fe11d6d8"
      },
      "outputs": [
        {
          "output_type": "stream",
          "name": "stdout",
          "text": [
            "The autoreload extension is already loaded. To reload it, use:\n",
            "  %reload_ext autoreload\n"
          ]
        }
      ],
      "source": [
        "import numpy as np\n",
        "import string\n",
        "import pandas as pd\n",
        "import matplotlib.pyplot as plt\n",
        "import cv2 as cv\n",
        "import os\n",
        "\n",
        "%load_ext autoreload\n",
        "%autoreload 2\n",
        "#################################\n",
        "%matplotlib inline\n"
      ]
    },
    {
      "cell_type": "code",
      "source": [
        "import tensorflow as tf\n",
        "\n",
        "import numpy as np\n",
        "import matplotlib.pyplot as plt\n",
        "import keras\n",
        "from keras.models import Sequential\n",
        "from keras.optimizers import Adam\n",
        "from keras.layers import Convolution2D, MaxPooling2D, Dropout, Flatten, Dense\n",
        "import cv2\n",
        "import pandas as pd\n",
        "import random\n",
        "import os\n",
        "import ntpath\n",
        "from sklearn.utils import shuffle\n",
        "from sklearn.model_selection import train_test_split\n",
        "\n",
        "import matplotlib.image as mpimg\n",
        "from imgaug import augmenters as iaa\n",
        "import subprocess\n",
        "from PIL import Image\n",
        "import csv\n",
        "\n",
        "np.random.seed(0)"
      ],
      "metadata": {
        "id": "3zx38hZR5YLq"
      },
      "execution_count": 33,
      "outputs": []
    },
    {
      "cell_type": "code",
      "source": [
        "!git clone https://github.com/JosiasRuiz/AdvanceML.git"
      ],
      "metadata": {
        "colab": {
          "base_uri": "https://localhost:8080/"
        },
        "id": "BJ87BvTQ086d",
        "outputId": "fcb507f9-eedf-479a-86ab-7029b67fb94c"
      },
      "execution_count": 34,
      "outputs": [
        {
          "output_type": "stream",
          "name": "stdout",
          "text": [
            "fatal: destination path 'AdvanceML' already exists and is not an empty directory.\n"
          ]
        }
      ]
    },
    {
      "cell_type": "code",
      "source": [
        "train_dir = 'AdvanceML/ML_Act01/ASL_Alphabet/asl_alphabet_train'\n",
        "test_dir = 'AdvanceML/ML_Act01/ASL_Alphabet/asl_alphabet_test'\n",
        "#sign_classes = ['A', 'B', 'C', 'D', 'E', 'F', 'G', 'H','I','J','K','L','M','N','O','P','Q','R','S','T','U','V','W','X','Y','Z','del','nothing','space']"
      ],
      "metadata": {
        "id": "HgCykpOI3vYk"
      },
      "execution_count": 35,
      "outputs": []
    },
    {
      "cell_type": "code",
      "source": [
        "list_files_test = []\n",
        "dir_TMP = test_dir+\"/\"\n",
        "list_files = subprocess.check_output('ls '+ dir_TMP, shell=True).decode()\n",
        "list_files = list_files.split()\n",
        "\n",
        "for File in list_files:\n",
        "  file_lab = File.split(\"_\")\n",
        "  if len(file_lab[0]) == 1: file_cat = ord(file_lab[0]); file_cat = ord(file_lab[0][0]);\n",
        "  list_files_test.append([file_lab[0], file_cat, dir_TMP + File])\n",
        "\n",
        "print(\"Files in path:\" + str(len(list_files)))\n",
        "print(list_files_test[0:5])"
      ],
      "metadata": {
        "colab": {
          "base_uri": "https://localhost:8080/"
        },
        "id": "HPp_aXXD4qih",
        "outputId": "52fd1bac-22ad-44bf-b8ee-81b56c24028e"
      },
      "execution_count": 36,
      "outputs": [
        {
          "output_type": "stream",
          "name": "stdout",
          "text": [
            "Files in path:28\n",
            "[['A', 65, 'AdvanceML/ML_Act01/ASL_Alphabet/asl_alphabet_test/A_test.jpg'], ['B', 66, 'AdvanceML/ML_Act01/ASL_Alphabet/asl_alphabet_test/B_test.jpg'], ['C', 67, 'AdvanceML/ML_Act01/ASL_Alphabet/asl_alphabet_test/C_test.jpg'], ['D', 68, 'AdvanceML/ML_Act01/ASL_Alphabet/asl_alphabet_test/D_test.jpg'], ['E', 69, 'AdvanceML/ML_Act01/ASL_Alphabet/asl_alphabet_test/E_test.jpg']]\n"
          ]
        }
      ]
    },
    {
      "cell_type": "code",
      "source": [
        "FileList = []\n",
        "dir_TMP = train_dir+\"/\"\n",
        "list_files = subprocess.check_output('ls '+ dir_TMP, shell=True).decode()\n",
        "sign_classes = list_files.split()\n",
        "print(sign_classes)"
      ],
      "metadata": {
        "id": "hxT9A_klTtJ-",
        "outputId": "7de23cc6-a3bc-43a0-d735-9c4f00d05491",
        "colab": {
          "base_uri": "https://localhost:8080/"
        }
      },
      "execution_count": 37,
      "outputs": [
        {
          "output_type": "stream",
          "name": "stdout",
          "text": [
            "['A', 'B', 'C', 'D', 'del', 'E', 'F', 'G', 'H', 'I', 'J', 'K', 'L', 'M', 'N', 'nothing', 'O', 'P', 'Q', 'R', 'S', 'space', 'T', 'U', 'V', 'W', 'X', 'Y', 'Z']\n"
          ]
        }
      ]
    },
    {
      "cell_type": "code",
      "source": [
        "list_files_train = []\n",
        "for sign_class in sign_classes:\n",
        "  dir_TMP = train_dir + \"/\"+sign_class+\"/\"\n",
        "  list_files = subprocess.check_output('ls '+ dir_TMP, shell=True).decode()\n",
        "  list_files = list_files.split()\n",
        "  if len(sign_class[0]) == 1: file_cat = ord(sign_class[0]); file_cat = ord(sign_class[0][0]);\n",
        "  for ListFile in list_files:\n",
        "    list_files_train.append([sign_class,file_cat,dir_TMP+ListFile])\n",
        "print(list_files_train[0:5])\n",
        "print(\"Files in path:\" + str(len(list_files_train)))\n"
      ],
      "metadata": {
        "colab": {
          "base_uri": "https://localhost:8080/"
        },
        "id": "968P0ATvFHEx",
        "outputId": "9509e7f0-c838-4e19-ee13-1ccf212603bc"
      },
      "execution_count": 38,
      "outputs": [
        {
          "output_type": "stream",
          "name": "stdout",
          "text": [
            "[['A', 65, 'AdvanceML/ML_Act01/ASL_Alphabet/asl_alphabet_train/A/A561.jpg'], ['A', 65, 'AdvanceML/ML_Act01/ASL_Alphabet/asl_alphabet_train/A/A562.jpg'], ['A', 65, 'AdvanceML/ML_Act01/ASL_Alphabet/asl_alphabet_train/A/A563.jpg'], ['A', 65, 'AdvanceML/ML_Act01/ASL_Alphabet/asl_alphabet_train/A/A564.jpg'], ['A', 65, 'AdvanceML/ML_Act01/ASL_Alphabet/asl_alphabet_train/A/A565.jpg']]\n",
            "Files in path:84486\n"
          ]
        }
      ]
    },
    {
      "cell_type": "code",
      "source": [
        "#Example image to map\n",
        "\n",
        "img=list_files_train[random.randint(0, len(list_files_train))][2]\n",
        "print(img)\n",
        "img = Image.open(img)\n",
        "img = img.resize((50,50))\n",
        "img = img.convert('LA') # convert image to grayscale\n",
        "\n",
        "print(img.size)\n",
        "plt.imshow(img, cmap='gray',vmin=0.0, vmax=1.0)\n",
        "plt.show()\n",
        "img = np.array(img)"
      ],
      "metadata": {
        "id": "wAFOXmhsbip6",
        "outputId": "d6f79e77-1287-4446-b90f-2d54a7b98d68",
        "colab": {
          "base_uri": "https://localhost:8080/",
          "height": 467
        }
      },
      "execution_count": 53,
      "outputs": [
        {
          "output_type": "stream",
          "name": "stdout",
          "text": [
            "AdvanceML/ML_Act01/ASL_Alphabet/asl_alphabet_train/I/I1147.jpg\n",
            "(50, 50)\n"
          ]
        },
        {
          "output_type": "display_data",
          "data": {
            "text/plain": [
              "<Figure size 640x480 with 1 Axes>"
            ],
            "image/png": "[encoded data removed]"
          },
          "metadata": {}
        }
      ]
    },
    {
      "cell_type": "code",
      "source": [
        "print(len(img))\n",
        "print(len(img[1]))\n",
        "print(img[1][0][0]) #Get pixel Grayscale value"
      ],
      "metadata": {
        "id": "ktCPD63Gdqqk",
        "outputId": "d7f3279e-951d-4c81-e9cc-ea66cba7f966",
        "colab": {
          "base_uri": "https://localhost:8080/"
        }
      },
      "execution_count": 54,
      "outputs": [
        {
          "output_type": "stream",
          "name": "stdout",
          "text": [
            "50\n",
            "50\n",
            "67\n"
          ]
        }
      ]
    },
    {
      "cell_type": "code",
      "source": [
        "#Loop\n",
        "def pix_mapped(list_files_pix):\n",
        "  data_out=[]\n",
        "  for i in range(len(list_files_pix)):\n",
        "    img_path = list_files_pix[i][2]\n",
        "    img = Image.open(img_path)\n",
        "    img = img.resize((40,40))\n",
        "    img = img.convert('LA')\n",
        "    img_ar = np.array(img)\n",
        "    data_out.append(list_files_pix[i])\n",
        "    for j in range(len(img_ar)):\n",
        "      for k in range(len(img_ar[0])):\n",
        "        data_out[len(data_out)-1].append(img_ar[j][k][0])\n",
        "    if i % 1000 == 0 or i == len(list_files_pix)-1: CSV_Out(data_out,\"FOut_Img_\"+str(i)); data_out=[];\n",
        "  return list_files_pix"
      ],
      "metadata": {
        "id": "q4SVMcYfV4Gy"
      },
      "execution_count": 56,
      "outputs": []
    },
    {
      "cell_type": "code",
      "source": [
        "#DF headers\n",
        "df_headers = ['class','label','file']\n",
        "for i in range(50*50):\n",
        "  df_headers.append(\"pixel\"+str(i))\n",
        "print(df_headers)"
      ],
      "metadata": {
        "colab": {
          "base_uri": "https://localhost:8080/"
        },
        "id": "yGCavnfRexgr",
        "outputId": "d8f50303-2d5e-43d1-b6b3-e2804b494a00"
      },
      "execution_count": 55,
      "outputs": [
        {
          "output_type": "stream",
          "name": "stdout",
          "text": [
            "['class', 'label', 'file', 'pixel0', 'pixel1', 'pixel2', 'pixel3', 'pixel4', 'pixel5', 'pixel6', 'pixel7', 'pixel8', 'pixel9', 'pixel10', 'pixel11', 'pixel12', 'pixel13', 'pixel14', 'pixel15', 'pixel16', 'pixel17', 'pixel18', 'pixel19', 'pixel20', 'pixel21', 'pixel22', 'pixel23', 'pixel24', 'pixel25', 'pixel26', 'pixel27', 'pixel28', 'pixel29', 'pixel30', 'pixel31', 'pixel32', 'pixel33', 'pixel34', 'pixel35', 'pixel36', 'pixel37', 'pixel38', 'pixel39', 'pixel40', 'pixel41', 'pixel42', 'pixel43', 'pixel44', 'pixel45', 'pixel46', 'pixel47', 'pixel48', 'pixel49', 'pixel50', 'pixel51', 'pixel52', 'pixel53', 'pixel54', 'pixel55', 'pixel56', 'pixel57', 'pixel58', 'pixel59', 'pixel60', 'pixel61', 'pixel62', 'pixel63', 'pixel64', 'pixel65', 'pixel66', 'pixel67', 'pixel68', 'pixel69', 'pixel70', 'pixel71', 'pixel72', 'pixel73', 'pixel74', 'pixel75', 'pixel76', 'pixel77', 'pixel78', 'pixel79', 'pixel80', 'pixel81', 'pixel82', 'pixel83', 'pixel84', 'pixel85', 'pixel86', 'pixel87', 'pixel88', 'pixel89', 'pixel90', 'pixel91', 'pixel92', 'pixel93', 'pixel94', 'pixel95', 'pixel96', 'pixel97', 'pixel98', 'pixel99', 'pixel100', 'pixel101', 'pixel102', 'pixel103', 'pixel104', 'pixel105', 'pixel106', 'pixel107', 'pixel108', 'pixel109', 'pixel110', 'pixel111', 'pixel112', 'pixel113', 'pixel114', 'pixel115', 'pixel116', 'pixel117', 'pixel118', 'pixel119', 'pixel120', 'pixel121', 'pixel122', 'pixel123', 'pixel124', 'pixel125', 'pixel126', 'pixel127', 'pixel128', 'pixel129', 'pixel130', 'pixel131', 'pixel132', 'pixel133', 'pixel134', 'pixel135', 'pixel136', 'pixel137', 'pixel138', 'pixel139', 'pixel140', 'pixel141', 'pixel142', 'pixel143', 'pixel144', 'pixel145', 'pixel146', 'pixel147', 'pixel148', 'pixel149', 'pixel150', 'pixel151', 'pixel152', 'pixel153', 'pixel154', 'pixel155', 'pixel156', 'pixel157', 'pixel158', 'pixel159', 'pixel160', 'pixel161', 'pixel162', 'pixel163', 'pixel164', 'pixel165', 'pixel166', 'pixel167', 'pixel168', 'pixel169', 'pixel170', 'pixel171', 'pixel172', 'pixel173', 'pixel174', 'pixel175', 'pixel176', 'pixel177', 'pixel178', 'pixel179', 'pixel180', 'pixel181', 'pixel182', 'pixel183', 'pixel184', 'pixel185', 'pixel186', 'pixel187', 'pixel188', 'pixel189', 'pixel190', 'pixel191', 'pixel192', 'pixel193', 'pixel194', 'pixel195', 'pixel196', 'pixel197', 'pixel198', 'pixel199', 'pixel200', 'pixel201', 'pixel202', 'pixel203', 'pixel204', 'pixel205', 'pixel206', 'pixel207', 'pixel208', 'pixel209', 'pixel210', 'pixel211', 'pixel212', 'pixel213', 'pixel214', 'pixel215', 'pixel216', 'pixel217', 'pixel218', 'pixel219', 'pixel220', 'pixel221', 'pixel222', 'pixel223', 'pixel224', 'pixel225', 'pixel226', 'pixel227', 'pixel228', 'pixel229', 'pixel230', 'pixel231', 'pixel232', 'pixel233', 'pixel234', 'pixel235', 'pixel236', 'pixel237', 'pixel238', 'pixel239', 'pixel240', 'pixel241', 'pixel242', 'pixel243', 'pixel244', 'pixel245', 'pixel246', 'pixel247', 'pixel248', 'pixel249', 'pixel250', 'pixel251', 'pixel252', 'pixel253', 'pixel254', 'pixel255', 'pixel256', 'pixel257', 'pixel258', 'pixel259', 'pixel260', 'pixel261', 'pixel262', 'pixel263', 'pixel264', 'pixel265', 'pixel266', 'pixel267', 'pixel268', 'pixel269', 'pixel270', 'pixel271', 'pixel272', 'pixel273', 'pixel274', 'pixel275', 'pixel276', 'pixel277', 'pixel278', 'pixel279', 'pixel280', 'pixel281', 'pixel282', 'pixel283', 'pixel284', 'pixel285', 'pixel286', 'pixel287', 'pixel288', 'pixel289', 'pixel290', 'pixel291', 'pixel292', 'pixel293', 'pixel294', 'pixel295', 'pixel296', 'pixel297', 'pixel298', 'pixel299', 'pixel300', 'pixel301', 'pixel302', 'pixel303', 'pixel304', 'pixel305', 'pixel306', 'pixel307', 'pixel308', 'pixel309', 'pixel310', 'pixel311', 'pixel312', 'pixel313', 'pixel314', 'pixel315', 'pixel316', 'pixel317', 'pixel318', 'pixel319', 'pixel320', 'pixel321', 'pixel322', 'pixel323', 'pixel324', 'pixel325', 'pixel326', 'pixel327', 'pixel328', 'pixel329', 'pixel330', 'pixel331', 'pixel332', 'pixel333', 'pixel334', 'pixel335', 'pixel336', 'pixel337', 'pixel338', 'pixel339', 'pixel340', 'pixel341', 'pixel342', 'pixel343', 'pixel344', 'pixel345', 'pixel346', 'pixel347', 'pixel348', 'pixel349', 'pixel350', 'pixel351', 'pixel352', 'pixel353', 'pixel354', 'pixel355', 'pixel356', 'pixel357', 'pixel358', 'pixel359', 'pixel360', 'pixel361', 'pixel362', 'pixel363', 'pixel364', 'pixel365', 'pixel366', 'pixel367', 'pixel368', 'pixel369', 'pixel370', 'pixel371', 'pixel372', 'pixel373', 'pixel374', 'pixel375', 'pixel376', 'pixel377', 'pixel378', 'pixel379', 'pixel380', 'pixel381', 'pixel382', 'pixel383', 'pixel384', 'pixel385', 'pixel386', 'pixel387', 'pixel388', 'pixel389', 'pixel390', 'pixel391', 'pixel392', 'pixel393', 'pixel394', 'pixel395', 'pixel396', 'pixel397', 'pixel398', 'pixel399', 'pixel400', 'pixel401', 'pixel402', 'pixel403', 'pixel404', 'pixel405', 'pixel406', 'pixel407', 'pixel408', 'pixel409', 'pixel410', 'pixel411', 'pixel412', 'pixel413', 'pixel414', 'pixel415', 'pixel416', 'pixel417', 'pixel418', 'pixel419', 'pixel420', 'pixel421', 'pixel422', 'pixel423', 'pixel424', 'pixel425', 'pixel426', 'pixel427', 'pixel428', 'pixel429', 'pixel430', 'pixel431', 'pixel432', 'pixel433', 'pixel434', 'pixel435', 'pixel436', 'pixel437', 'pixel438', 'pixel439', 'pixel440', 'pixel441', 'pixel442', 'pixel443', 'pixel444', 'pixel445', 'pixel446', 'pixel447', 'pixel448', 'pixel449', 'pixel450', 'pixel451', 'pixel452', 'pixel453', 'pixel454', 'pixel455', 'pixel456', 'pixel457', 'pixel458', 'pixel459', 'pixel460', 'pixel461', 'pixel462', 'pixel463', 'pixel464', 'pixel465', 'pixel466', 'pixel467', 'pixel468', 'pixel469', 'pixel470', 'pixel471', 'pixel472', 'pixel473', 'pixel474', 'pixel475', 'pixel476', 'pixel477', 'pixel478', 'pixel479', 'pixel480', 'pixel481', 'pixel482', 'pixel483', 'pixel484', 'pixel485', 'pixel486', 'pixel487', 'pixel488', 'pixel489', 'pixel490', 'pixel491', 'pixel492', 'pixel493', 'pixel494', 'pixel495', 'pixel496', 'pixel497', 'pixel498', 'pixel499', 'pixel500', 'pixel501', 'pixel502', 'pixel503', 'pixel504', 'pixel505', 'pixel506', 'pixel507', 'pixel508', 'pixel509', 'pixel510', 'pixel511', 'pixel512', 'pixel513', 'pixel514', 'pixel515', 'pixel516', 'pixel517', 'pixel518', 'pixel519', 'pixel520', 'pixel521', 'pixel522', 'pixel523', 'pixel524', 'pixel525', 'pixel526', 'pixel527', 'pixel528', 'pixel529', 'pixel530', 'pixel531', 'pixel532', 'pixel533', 'pixel534', 'pixel535', 'pixel536', 'pixel537', 'pixel538', 'pixel539', 'pixel540', 'pixel541', 'pixel542', 'pixel543', 'pixel544', 'pixel545', 'pixel546', 'pixel547', 'pixel548', 'pixel549', 'pixel550', 'pixel551', 'pixel552', 'pixel553', 'pixel554', 'pixel555', 'pixel556', 'pixel557', 'pixel558', 'pixel559', 'pixel560', 'pixel561', 'pixel562', 'pixel563', 'pixel564', 'pixel565', 'pixel566', 'pixel567', 'pixel568', 'pixel569', 'pixel570', 'pixel571', 'pixel572', 'pixel573', 'pixel574', 'pixel575', 'pixel576', 'pixel577', 'pixel578', 'pixel579', 'pixel580', 'pixel581', 'pixel582', 'pixel583', 'pixel584', 'pixel585', 'pixel586', 'pixel587', 'pixel588', 'pixel589', 'pixel590', 'pixel591', 'pixel592', 'pixel593', 'pixel594', 'pixel595', 'pixel596', 'pixel597', 'pixel598', 'pixel599', 'pixel600', 'pixel601', 'pixel602', 'pixel603', 'pixel604', 'pixel605', 'pixel606', 'pixel607', 'pixel608', 'pixel609', 'pixel610', 'pixel611', 'pixel612', 'pixel613', 'pixel614', 'pixel615', 'pixel616', 'pixel617', 'pixel618', 'pixel619', 'pixel620', 'pixel621', 'pixel622', 'pixel623', 'pixel624', 'pixel625', 'pixel626', 'pixel627', 'pixel628', 'pixel629', 'pixel630', 'pixel631', 'pixel632', 'pixel633', 'pixel634', 'pixel635', 'pixel636', 'pixel637', 'pixel638', 'pixel639', 'pixel640', 'pixel641', 'pixel642', 'pixel643', 'pixel644', 'pixel645', 'pixel646', 'pixel647', 'pixel648', 'pixel649', 'pixel650', 'pixel651', 'pixel652', 'pixel653', 'pixel654', 'pixel655', 'pixel656', 'pixel657', 'pixel658', 'pixel659', 'pixel660', 'pixel661', 'pixel662', 'pixel663', 'pixel664', 'pixel665', 'pixel666', 'pixel667', 'pixel668', 'pixel669', 'pixel670', 'pixel671', 'pixel672', 'pixel673', 'pixel674', 'pixel675', 'pixel676', 'pixel677', 'pixel678', 'pixel679', 'pixel680', 'pixel681', 'pixel682', 'pixel683', 'pixel684', 'pixel685', 'pixel686', 'pixel687', 'pixel688', 'pixel689', 'pixel690', 'pixel691', 'pixel692', 'pixel693', 'pixel694', 'pixel695', 'pixel696', 'pixel697', 'pixel698', 'pixel699', 'pixel700', 'pixel701', 'pixel702', 'pixel703', 'pixel704', 'pixel705', 'pixel706', 'pixel707', 'pixel708', 'pixel709', 'pixel710', 'pixel711', 'pixel712', 'pixel713', 'pixel714', 'pixel715', 'pixel716', 'pixel717', 'pixel718', 'pixel719', 'pixel720', 'pixel721', 'pixel722', 'pixel723', 'pixel724', 'pixel725', 'pixel726', 'pixel727', 'pixel728', 'pixel729', 'pixel730', 'pixel731', 'pixel732', 'pixel733', 'pixel734', 'pixel735', 'pixel736', 'pixel737', 'pixel738', 'pixel739', 'pixel740', 'pixel741', 'pixel742', 'pixel743', 'pixel744', 'pixel745', 'pixel746', 'pixel747', 'pixel748', 'pixel749', 'pixel750', 'pixel751', 'pixel752', 'pixel753', 'pixel754', 'pixel755', 'pixel756', 'pixel757', 'pixel758', 'pixel759', 'pixel760', 'pixel761', 'pixel762', 'pixel763', 'pixel764', 'pixel765', 'pixel766', 'pixel767', 'pixel768', 'pixel769', 'pixel770', 'pixel771', 'pixel772', 'pixel773', 'pixel774', 'pixel775', 'pixel776', 'pixel777', 'pixel778', 'pixel779', 'pixel780', 'pixel781', 'pixel782', 'pixel783', 'pixel784', 'pixel785', 'pixel786', 'pixel787', 'pixel788', 'pixel789', 'pixel790', 'pixel791', 'pixel792', 'pixel793', 'pixel794', 'pixel795', 'pixel796', 'pixel797', 'pixel798', 'pixel799', 'pixel800', 'pixel801', 'pixel802', 'pixel803', 'pixel804', 'pixel805', 'pixel806', 'pixel807', 'pixel808', 'pixel809', 'pixel810', 'pixel811', 'pixel812', 'pixel813', 'pixel814', 'pixel815', 'pixel816', 'pixel817', 'pixel818', 'pixel819', 'pixel820', 'pixel821', 'pixel822', 'pixel823', 'pixel824', 'pixel825', 'pixel826', 'pixel827', 'pixel828', 'pixel829', 'pixel830', 'pixel831', 'pixel832', 'pixel833', 'pixel834', 'pixel835', 'pixel836', 'pixel837', 'pixel838', 'pixel839', 'pixel840', 'pixel841', 'pixel842', 'pixel843', 'pixel844', 'pixel845', 'pixel846', 'pixel847', 'pixel848', 'pixel849', 'pixel850', 'pixel851', 'pixel852', 'pixel853', 'pixel854', 'pixel855', 'pixel856', 'pixel857', 'pixel858', 'pixel859', 'pixel860', 'pixel861', 'pixel862', 'pixel863', 'pixel864', 'pixel865', 'pixel866', 'pixel867', 'pixel868', 'pixel869', 'pixel870', 'pixel871', 'pixel872', 'pixel873', 'pixel874', 'pixel875', 'pixel876', 'pixel877', 'pixel878', 'pixel879', 'pixel880', 'pixel881', 'pixel882', 'pixel883', 'pixel884', 'pixel885', 'pixel886', 'pixel887', 'pixel888', 'pixel889', 'pixel890', 'pixel891', 'pixel892', 'pixel893', 'pixel894', 'pixel895', 'pixel896', 'pixel897', 'pixel898', 'pixel899', 'pixel900', 'pixel901', 'pixel902', 'pixel903', 'pixel904', 'pixel905', 'pixel906', 'pixel907', 'pixel908', 'pixel909', 'pixel910', 'pixel911', 'pixel912', 'pixel913', 'pixel914', 'pixel915', 'pixel916', 'pixel917', 'pixel918', 'pixel919', 'pixel920', 'pixel921', 'pixel922', 'pixel923', 'pixel924', 'pixel925', 'pixel926', 'pixel927', 'pixel928', 'pixel929', 'pixel930', 'pixel931', 'pixel932', 'pixel933', 'pixel934', 'pixel935', 'pixel936', 'pixel937', 'pixel938', 'pixel939', 'pixel940', 'pixel941', 'pixel942', 'pixel943', 'pixel944', 'pixel945', 'pixel946', 'pixel947', 'pixel948', 'pixel949', 'pixel950', 'pixel951', 'pixel952', 'pixel953', 'pixel954', 'pixel955', 'pixel956', 'pixel957', 'pixel958', 'pixel959', 'pixel960', 'pixel961', 'pixel962', 'pixel963', 'pixel964', 'pixel965', 'pixel966', 'pixel967', 'pixel968', 'pixel969', 'pixel970', 'pixel971', 'pixel972', 'pixel973', 'pixel974', 'pixel975', 'pixel976', 'pixel977', 'pixel978', 'pixel979', 'pixel980', 'pixel981', 'pixel982', 'pixel983', 'pixel984', 'pixel985', 'pixel986', 'pixel987', 'pixel988', 'pixel989', 'pixel990', 'pixel991', 'pixel992', 'pixel993', 'pixel994', 'pixel995', 'pixel996', 'pixel997', 'pixel998', 'pixel999', 'pixel1000', 'pixel1001', 'pixel1002', 'pixel1003', 'pixel1004', 'pixel1005', 'pixel1006', 'pixel1007', 'pixel1008', 'pixel1009', 'pixel1010', 'pixel1011', 'pixel1012', 'pixel1013', 'pixel1014', 'pixel1015', 'pixel1016', 'pixel1017', 'pixel1018', 'pixel1019', 'pixel1020', 'pixel1021', 'pixel1022', 'pixel1023', 'pixel1024', 'pixel1025', 'pixel1026', 'pixel1027', 'pixel1028', 'pixel1029', 'pixel1030', 'pixel1031', 'pixel1032', 'pixel1033', 'pixel1034', 'pixel1035', 'pixel1036', 'pixel1037', 'pixel1038', 'pixel1039', 'pixel1040', 'pixel1041', 'pixel1042', 'pixel1043', 'pixel1044', 'pixel1045', 'pixel1046', 'pixel1047', 'pixel1048', 'pixel1049', 'pixel1050', 'pixel1051', 'pixel1052', 'pixel1053', 'pixel1054', 'pixel1055', 'pixel1056', 'pixel1057', 'pixel1058', 'pixel1059', 'pixel1060', 'pixel1061', 'pixel1062', 'pixel1063', 'pixel1064', 'pixel1065', 'pixel1066', 'pixel1067', 'pixel1068', 'pixel1069', 'pixel1070', 'pixel1071', 'pixel1072', 'pixel1073', 'pixel1074', 'pixel1075', 'pixel1076', 'pixel1077', 'pixel1078', 'pixel1079', 'pixel1080', 'pixel1081', 'pixel1082', 'pixel1083', 'pixel1084', 'pixel1085', 'pixel1086', 'pixel1087', 'pixel1088', 'pixel1089', 'pixel1090', 'pixel1091', 'pixel1092', 'pixel1093', 'pixel1094', 'pixel1095', 'pixel1096', 'pixel1097', 'pixel1098', 'pixel1099', 'pixel1100', 'pixel1101', 'pixel1102', 'pixel1103', 'pixel1104', 'pixel1105', 'pixel1106', 'pixel1107', 'pixel1108', 'pixel1109', 'pixel1110', 'pixel1111', 'pixel1112', 'pixel1113', 'pixel1114', 'pixel1115', 'pixel1116', 'pixel1117', 'pixel1118', 'pixel1119', 'pixel1120', 'pixel1121', 'pixel1122', 'pixel1123', 'pixel1124', 'pixel1125', 'pixel1126', 'pixel1127', 'pixel1128', 'pixel1129', 'pixel1130', 'pixel1131', 'pixel1132', 'pixel1133', 'pixel1134', 'pixel1135', 'pixel1136', 'pixel1137', 'pixel1138', 'pixel1139', 'pixel1140', 'pixel1141', 'pixel1142', 'pixel1143', 'pixel1144', 'pixel1145', 'pixel1146', 'pixel1147', 'pixel1148', 'pixel1149', 'pixel1150', 'pixel1151', 'pixel1152', 'pixel1153', 'pixel1154', 'pixel1155', 'pixel1156', 'pixel1157', 'pixel1158', 'pixel1159', 'pixel1160', 'pixel1161', 'pixel1162', 'pixel1163', 'pixel1164', 'pixel1165', 'pixel1166', 'pixel1167', 'pixel1168', 'pixel1169', 'pixel1170', 'pixel1171', 'pixel1172', 'pixel1173', 'pixel1174', 'pixel1175', 'pixel1176', 'pixel1177', 'pixel1178', 'pixel1179', 'pixel1180', 'pixel1181', 'pixel1182', 'pixel1183', 'pixel1184', 'pixel1185', 'pixel1186', 'pixel1187', 'pixel1188', 'pixel1189', 'pixel1190', 'pixel1191', 'pixel1192', 'pixel1193', 'pixel1194', 'pixel1195', 'pixel1196', 'pixel1197', 'pixel1198', 'pixel1199', 'pixel1200', 'pixel1201', 'pixel1202', 'pixel1203', 'pixel1204', 'pixel1205', 'pixel1206', 'pixel1207', 'pixel1208', 'pixel1209', 'pixel1210', 'pixel1211', 'pixel1212', 'pixel1213', 'pixel1214', 'pixel1215', 'pixel1216', 'pixel1217', 'pixel1218', 'pixel1219', 'pixel1220', 'pixel1221', 'pixel1222', 'pixel1223', 'pixel1224', 'pixel1225', 'pixel1226', 'pixel1227', 'pixel1228', 'pixel1229', 'pixel1230', 'pixel1231', 'pixel1232', 'pixel1233', 'pixel1234', 'pixel1235', 'pixel1236', 'pixel1237', 'pixel1238', 'pixel1239', 'pixel1240', 'pixel1241', 'pixel1242', 'pixel1243', 'pixel1244', 'pixel1245', 'pixel1246', 'pixel1247', 'pixel1248', 'pixel1249', 'pixel1250', 'pixel1251', 'pixel1252', 'pixel1253', 'pixel1254', 'pixel1255', 'pixel1256', 'pixel1257', 'pixel1258', 'pixel1259', 'pixel1260', 'pixel1261', 'pixel1262', 'pixel1263', 'pixel1264', 'pixel1265', 'pixel1266', 'pixel1267', 'pixel1268', 'pixel1269', 'pixel1270', 'pixel1271', 'pixel1272', 'pixel1273', 'pixel1274', 'pixel1275', 'pixel1276', 'pixel1277', 'pixel1278', 'pixel1279', 'pixel1280', 'pixel1281', 'pixel1282', 'pixel1283', 'pixel1284', 'pixel1285', 'pixel1286', 'pixel1287', 'pixel1288', 'pixel1289', 'pixel1290', 'pixel1291', 'pixel1292', 'pixel1293', 'pixel1294', 'pixel1295', 'pixel1296', 'pixel1297', 'pixel1298', 'pixel1299', 'pixel1300', 'pixel1301', 'pixel1302', 'pixel1303', 'pixel1304', 'pixel1305', 'pixel1306', 'pixel1307', 'pixel1308', 'pixel1309', 'pixel1310', 'pixel1311', 'pixel1312', 'pixel1313', 'pixel1314', 'pixel1315', 'pixel1316', 'pixel1317', 'pixel1318', 'pixel1319', 'pixel1320', 'pixel1321', 'pixel1322', 'pixel1323', 'pixel1324', 'pixel1325', 'pixel1326', 'pixel1327', 'pixel1328', 'pixel1329', 'pixel1330', 'pixel1331', 'pixel1332', 'pixel1333', 'pixel1334', 'pixel1335', 'pixel1336', 'pixel1337', 'pixel1338', 'pixel1339', 'pixel1340', 'pixel1341', 'pixel1342', 'pixel1343', 'pixel1344', 'pixel1345', 'pixel1346', 'pixel1347', 'pixel1348', 'pixel1349', 'pixel1350', 'pixel1351', 'pixel1352', 'pixel1353', 'pixel1354', 'pixel1355', 'pixel1356', 'pixel1357', 'pixel1358', 'pixel1359', 'pixel1360', 'pixel1361', 'pixel1362', 'pixel1363', 'pixel1364', 'pixel1365', 'pixel1366', 'pixel1367', 'pixel1368', 'pixel1369', 'pixel1370', 'pixel1371', 'pixel1372', 'pixel1373', 'pixel1374', 'pixel1375', 'pixel1376', 'pixel1377', 'pixel1378', 'pixel1379', 'pixel1380', 'pixel1381', 'pixel1382', 'pixel1383', 'pixel1384', 'pixel1385', 'pixel1386', 'pixel1387', 'pixel1388', 'pixel1389', 'pixel1390', 'pixel1391', 'pixel1392', 'pixel1393', 'pixel1394', 'pixel1395', 'pixel1396', 'pixel1397', 'pixel1398', 'pixel1399', 'pixel1400', 'pixel1401', 'pixel1402', 'pixel1403', 'pixel1404', 'pixel1405', 'pixel1406', 'pixel1407', 'pixel1408', 'pixel1409', 'pixel1410', 'pixel1411', 'pixel1412', 'pixel1413', 'pixel1414', 'pixel1415', 'pixel1416', 'pixel1417', 'pixel1418', 'pixel1419', 'pixel1420', 'pixel1421', 'pixel1422', 'pixel1423', 'pixel1424', 'pixel1425', 'pixel1426', 'pixel1427', 'pixel1428', 'pixel1429', 'pixel1430', 'pixel1431', 'pixel1432', 'pixel1433', 'pixel1434', 'pixel1435', 'pixel1436', 'pixel1437', 'pixel1438', 'pixel1439', 'pixel1440', 'pixel1441', 'pixel1442', 'pixel1443', 'pixel1444', 'pixel1445', 'pixel1446', 'pixel1447', 'pixel1448', 'pixel1449', 'pixel1450', 'pixel1451', 'pixel1452', 'pixel1453', 'pixel1454', 'pixel1455', 'pixel1456', 'pixel1457', 'pixel1458', 'pixel1459', 'pixel1460', 'pixel1461', 'pixel1462', 'pixel1463', 'pixel1464', 'pixel1465', 'pixel1466', 'pixel1467', 'pixel1468', 'pixel1469', 'pixel1470', 'pixel1471', 'pixel1472', 'pixel1473', 'pixel1474', 'pixel1475', 'pixel1476', 'pixel1477', 'pixel1478', 'pixel1479', 'pixel1480', 'pixel1481', 'pixel1482', 'pixel1483', 'pixel1484', 'pixel1485', 'pixel1486', 'pixel1487', 'pixel1488', 'pixel1489', 'pixel1490', 'pixel1491', 'pixel1492', 'pixel1493', 'pixel1494', 'pixel1495', 'pixel1496', 'pixel1497', 'pixel1498', 'pixel1499', 'pixel1500', 'pixel1501', 'pixel1502', 'pixel1503', 'pixel1504', 'pixel1505', 'pixel1506', 'pixel1507', 'pixel1508', 'pixel1509', 'pixel1510', 'pixel1511', 'pixel1512', 'pixel1513', 'pixel1514', 'pixel1515', 'pixel1516', 'pixel1517', 'pixel1518', 'pixel1519', 'pixel1520', 'pixel1521', 'pixel1522', 'pixel1523', 'pixel1524', 'pixel1525', 'pixel1526', 'pixel1527', 'pixel1528', 'pixel1529', 'pixel1530', 'pixel1531', 'pixel1532', 'pixel1533', 'pixel1534', 'pixel1535', 'pixel1536', 'pixel1537', 'pixel1538', 'pixel1539', 'pixel1540', 'pixel1541', 'pixel1542', 'pixel1543', 'pixel1544', 'pixel1545', 'pixel1546', 'pixel1547', 'pixel1548', 'pixel1549', 'pixel1550', 'pixel1551', 'pixel1552', 'pixel1553', 'pixel1554', 'pixel1555', 'pixel1556', 'pixel1557', 'pixel1558', 'pixel1559', 'pixel1560', 'pixel1561', 'pixel1562', 'pixel1563', 'pixel1564', 'pixel1565', 'pixel1566', 'pixel1567', 'pixel1568', 'pixel1569', 'pixel1570', 'pixel1571', 'pixel1572', 'pixel1573', 'pixel1574', 'pixel1575', 'pixel1576', 'pixel1577', 'pixel1578', 'pixel1579', 'pixel1580', 'pixel1581', 'pixel1582', 'pixel1583', 'pixel1584', 'pixel1585', 'pixel1586', 'pixel1587', 'pixel1588', 'pixel1589', 'pixel1590', 'pixel1591', 'pixel1592', 'pixel1593', 'pixel1594', 'pixel1595', 'pixel1596', 'pixel1597', 'pixel1598', 'pixel1599', 'pixel1600', 'pixel1601', 'pixel1602', 'pixel1603', 'pixel1604', 'pixel1605', 'pixel1606', 'pixel1607', 'pixel1608', 'pixel1609', 'pixel1610', 'pixel1611', 'pixel1612', 'pixel1613', 'pixel1614', 'pixel1615', 'pixel1616', 'pixel1617', 'pixel1618', 'pixel1619', 'pixel1620', 'pixel1621', 'pixel1622', 'pixel1623', 'pixel1624', 'pixel1625', 'pixel1626', 'pixel1627', 'pixel1628', 'pixel1629', 'pixel1630', 'pixel1631', 'pixel1632', 'pixel1633', 'pixel1634', 'pixel1635', 'pixel1636', 'pixel1637', 'pixel1638', 'pixel1639', 'pixel1640', 'pixel1641', 'pixel1642', 'pixel1643', 'pixel1644', 'pixel1645', 'pixel1646', 'pixel1647', 'pixel1648', 'pixel1649', 'pixel1650', 'pixel1651', 'pixel1652', 'pixel1653', 'pixel1654', 'pixel1655', 'pixel1656', 'pixel1657', 'pixel1658', 'pixel1659', 'pixel1660', 'pixel1661', 'pixel1662', 'pixel1663', 'pixel1664', 'pixel1665', 'pixel1666', 'pixel1667', 'pixel1668', 'pixel1669', 'pixel1670', 'pixel1671', 'pixel1672', 'pixel1673', 'pixel1674', 'pixel1675', 'pixel1676', 'pixel1677', 'pixel1678', 'pixel1679', 'pixel1680', 'pixel1681', 'pixel1682', 'pixel1683', 'pixel1684', 'pixel1685', 'pixel1686', 'pixel1687', 'pixel1688', 'pixel1689', 'pixel1690', 'pixel1691', 'pixel1692', 'pixel1693', 'pixel1694', 'pixel1695', 'pixel1696', 'pixel1697', 'pixel1698', 'pixel1699', 'pixel1700', 'pixel1701', 'pixel1702', 'pixel1703', 'pixel1704', 'pixel1705', 'pixel1706', 'pixel1707', 'pixel1708', 'pixel1709', 'pixel1710', 'pixel1711', 'pixel1712', 'pixel1713', 'pixel1714', 'pixel1715', 'pixel1716', 'pixel1717', 'pixel1718', 'pixel1719', 'pixel1720', 'pixel1721', 'pixel1722', 'pixel1723', 'pixel1724', 'pixel1725', 'pixel1726', 'pixel1727', 'pixel1728', 'pixel1729', 'pixel1730', 'pixel1731', 'pixel1732', 'pixel1733', 'pixel1734', 'pixel1735', 'pixel1736', 'pixel1737', 'pixel1738', 'pixel1739', 'pixel1740', 'pixel1741', 'pixel1742', 'pixel1743', 'pixel1744', 'pixel1745', 'pixel1746', 'pixel1747', 'pixel1748', 'pixel1749', 'pixel1750', 'pixel1751', 'pixel1752', 'pixel1753', 'pixel1754', 'pixel1755', 'pixel1756', 'pixel1757', 'pixel1758', 'pixel1759', 'pixel1760', 'pixel1761', 'pixel1762', 'pixel1763', 'pixel1764', 'pixel1765', 'pixel1766', 'pixel1767', 'pixel1768', 'pixel1769', 'pixel1770', 'pixel1771', 'pixel1772', 'pixel1773', 'pixel1774', 'pixel1775', 'pixel1776', 'pixel1777', 'pixel1778', 'pixel1779', 'pixel1780', 'pixel1781', 'pixel1782', 'pixel1783', 'pixel1784', 'pixel1785', 'pixel1786', 'pixel1787', 'pixel1788', 'pixel1789', 'pixel1790', 'pixel1791', 'pixel1792', 'pixel1793', 'pixel1794', 'pixel1795', 'pixel1796', 'pixel1797', 'pixel1798', 'pixel1799', 'pixel1800', 'pixel1801', 'pixel1802', 'pixel1803', 'pixel1804', 'pixel1805', 'pixel1806', 'pixel1807', 'pixel1808', 'pixel1809', 'pixel1810', 'pixel1811', 'pixel1812', 'pixel1813', 'pixel1814', 'pixel1815', 'pixel1816', 'pixel1817', 'pixel1818', 'pixel1819', 'pixel1820', 'pixel1821', 'pixel1822', 'pixel1823', 'pixel1824', 'pixel1825', 'pixel1826', 'pixel1827', 'pixel1828', 'pixel1829', 'pixel1830', 'pixel1831', 'pixel1832', 'pixel1833', 'pixel1834', 'pixel1835', 'pixel1836', 'pixel1837', 'pixel1838', 'pixel1839', 'pixel1840', 'pixel1841', 'pixel1842', 'pixel1843', 'pixel1844', 'pixel1845', 'pixel1846', 'pixel1847', 'pixel1848', 'pixel1849', 'pixel1850', 'pixel1851', 'pixel1852', 'pixel1853', 'pixel1854', 'pixel1855', 'pixel1856', 'pixel1857', 'pixel1858', 'pixel1859', 'pixel1860', 'pixel1861', 'pixel1862', 'pixel1863', 'pixel1864', 'pixel1865', 'pixel1866', 'pixel1867', 'pixel1868', 'pixel1869', 'pixel1870', 'pixel1871', 'pixel1872', 'pixel1873', 'pixel1874', 'pixel1875', 'pixel1876', 'pixel1877', 'pixel1878', 'pixel1879', 'pixel1880', 'pixel1881', 'pixel1882', 'pixel1883', 'pixel1884', 'pixel1885', 'pixel1886', 'pixel1887', 'pixel1888', 'pixel1889', 'pixel1890', 'pixel1891', 'pixel1892', 'pixel1893', 'pixel1894', 'pixel1895', 'pixel1896', 'pixel1897', 'pixel1898', 'pixel1899', 'pixel1900', 'pixel1901', 'pixel1902', 'pixel1903', 'pixel1904', 'pixel1905', 'pixel1906', 'pixel1907', 'pixel1908', 'pixel1909', 'pixel1910', 'pixel1911', 'pixel1912', 'pixel1913', 'pixel1914', 'pixel1915', 'pixel1916', 'pixel1917', 'pixel1918', 'pixel1919', 'pixel1920', 'pixel1921', 'pixel1922', 'pixel1923', 'pixel1924', 'pixel1925', 'pixel1926', 'pixel1927', 'pixel1928', 'pixel1929', 'pixel1930', 'pixel1931', 'pixel1932', 'pixel1933', 'pixel1934', 'pixel1935', 'pixel1936', 'pixel1937', 'pixel1938', 'pixel1939', 'pixel1940', 'pixel1941', 'pixel1942', 'pixel1943', 'pixel1944', 'pixel1945', 'pixel1946', 'pixel1947', 'pixel1948', 'pixel1949', 'pixel1950', 'pixel1951', 'pixel1952', 'pixel1953', 'pixel1954', 'pixel1955', 'pixel1956', 'pixel1957', 'pixel1958', 'pixel1959', 'pixel1960', 'pixel1961', 'pixel1962', 'pixel1963', 'pixel1964', 'pixel1965', 'pixel1966', 'pixel1967', 'pixel1968', 'pixel1969', 'pixel1970', 'pixel1971', 'pixel1972', 'pixel1973', 'pixel1974', 'pixel1975', 'pixel1976', 'pixel1977', 'pixel1978', 'pixel1979', 'pixel1980', 'pixel1981', 'pixel1982', 'pixel1983', 'pixel1984', 'pixel1985', 'pixel1986', 'pixel1987', 'pixel1988', 'pixel1989', 'pixel1990', 'pixel1991', 'pixel1992', 'pixel1993', 'pixel1994', 'pixel1995', 'pixel1996', 'pixel1997', 'pixel1998', 'pixel1999', 'pixel2000', 'pixel2001', 'pixel2002', 'pixel2003', 'pixel2004', 'pixel2005', 'pixel2006', 'pixel2007', 'pixel2008', 'pixel2009', 'pixel2010', 'pixel2011', 'pixel2012', 'pixel2013', 'pixel2014', 'pixel2015', 'pixel2016', 'pixel2017', 'pixel2018', 'pixel2019', 'pixel2020', 'pixel2021', 'pixel2022', 'pixel2023', 'pixel2024', 'pixel2025', 'pixel2026', 'pixel2027', 'pixel2028', 'pixel2029', 'pixel2030', 'pixel2031', 'pixel2032', 'pixel2033', 'pixel2034', 'pixel2035', 'pixel2036', 'pixel2037', 'pixel2038', 'pixel2039', 'pixel2040', 'pixel2041', 'pixel2042', 'pixel2043', 'pixel2044', 'pixel2045', 'pixel2046', 'pixel2047', 'pixel2048', 'pixel2049', 'pixel2050', 'pixel2051', 'pixel2052', 'pixel2053', 'pixel2054', 'pixel2055', 'pixel2056', 'pixel2057', 'pixel2058', 'pixel2059', 'pixel2060', 'pixel2061', 'pixel2062', 'pixel2063', 'pixel2064', 'pixel2065', 'pixel2066', 'pixel2067', 'pixel2068', 'pixel2069', 'pixel2070', 'pixel2071', 'pixel2072', 'pixel2073', 'pixel2074', 'pixel2075', 'pixel2076', 'pixel2077', 'pixel2078', 'pixel2079', 'pixel2080', 'pixel2081', 'pixel2082', 'pixel2083', 'pixel2084', 'pixel2085', 'pixel2086', 'pixel2087', 'pixel2088', 'pixel2089', 'pixel2090', 'pixel2091', 'pixel2092', 'pixel2093', 'pixel2094', 'pixel2095', 'pixel2096', 'pixel2097', 'pixel2098', 'pixel2099', 'pixel2100', 'pixel2101', 'pixel2102', 'pixel2103', 'pixel2104', 'pixel2105', 'pixel2106', 'pixel2107', 'pixel2108', 'pixel2109', 'pixel2110', 'pixel2111', 'pixel2112', 'pixel2113', 'pixel2114', 'pixel2115', 'pixel2116', 'pixel2117', 'pixel2118', 'pixel2119', 'pixel2120', 'pixel2121', 'pixel2122', 'pixel2123', 'pixel2124', 'pixel2125', 'pixel2126', 'pixel2127', 'pixel2128', 'pixel2129', 'pixel2130', 'pixel2131', 'pixel2132', 'pixel2133', 'pixel2134', 'pixel2135', 'pixel2136', 'pixel2137', 'pixel2138', 'pixel2139', 'pixel2140', 'pixel2141', 'pixel2142', 'pixel2143', 'pixel2144', 'pixel2145', 'pixel2146', 'pixel2147', 'pixel2148', 'pixel2149', 'pixel2150', 'pixel2151', 'pixel2152', 'pixel2153', 'pixel2154', 'pixel2155', 'pixel2156', 'pixel2157', 'pixel2158', 'pixel2159', 'pixel2160', 'pixel2161', 'pixel2162', 'pixel2163', 'pixel2164', 'pixel2165', 'pixel2166', 'pixel2167', 'pixel2168', 'pixel2169', 'pixel2170', 'pixel2171', 'pixel2172', 'pixel2173', 'pixel2174', 'pixel2175', 'pixel2176', 'pixel2177', 'pixel2178', 'pixel2179', 'pixel2180', 'pixel2181', 'pixel2182', 'pixel2183', 'pixel2184', 'pixel2185', 'pixel2186', 'pixel2187', 'pixel2188', 'pixel2189', 'pixel2190', 'pixel2191', 'pixel2192', 'pixel2193', 'pixel2194', 'pixel2195', 'pixel2196', 'pixel2197', 'pixel2198', 'pixel2199', 'pixel2200', 'pixel2201', 'pixel2202', 'pixel2203', 'pixel2204', 'pixel2205', 'pixel2206', 'pixel2207', 'pixel2208', 'pixel2209', 'pixel2210', 'pixel2211', 'pixel2212', 'pixel2213', 'pixel2214', 'pixel2215', 'pixel2216', 'pixel2217', 'pixel2218', 'pixel2219', 'pixel2220', 'pixel2221', 'pixel2222', 'pixel2223', 'pixel2224', 'pixel2225', 'pixel2226', 'pixel2227', 'pixel2228', 'pixel2229', 'pixel2230', 'pixel2231', 'pixel2232', 'pixel2233', 'pixel2234', 'pixel2235', 'pixel2236', 'pixel2237', 'pixel2238', 'pixel2239', 'pixel2240', 'pixel2241', 'pixel2242', 'pixel2243', 'pixel2244', 'pixel2245', 'pixel2246', 'pixel2247', 'pixel2248', 'pixel2249', 'pixel2250', 'pixel2251', 'pixel2252', 'pixel2253', 'pixel2254', 'pixel2255', 'pixel2256', 'pixel2257', 'pixel2258', 'pixel2259', 'pixel2260', 'pixel2261', 'pixel2262', 'pixel2263', 'pixel2264', 'pixel2265', 'pixel2266', 'pixel2267', 'pixel2268', 'pixel2269', 'pixel2270', 'pixel2271', 'pixel2272', 'pixel2273', 'pixel2274', 'pixel2275', 'pixel2276', 'pixel2277', 'pixel2278', 'pixel2279', 'pixel2280', 'pixel2281', 'pixel2282', 'pixel2283', 'pixel2284', 'pixel2285', 'pixel2286', 'pixel2287', 'pixel2288', 'pixel2289', 'pixel2290', 'pixel2291', 'pixel2292', 'pixel2293', 'pixel2294', 'pixel2295', 'pixel2296', 'pixel2297', 'pixel2298', 'pixel2299', 'pixel2300', 'pixel2301', 'pixel2302', 'pixel2303', 'pixel2304', 'pixel2305', 'pixel2306', 'pixel2307', 'pixel2308', 'pixel2309', 'pixel2310', 'pixel2311', 'pixel2312', 'pixel2313', 'pixel2314', 'pixel2315', 'pixel2316', 'pixel2317', 'pixel2318', 'pixel2319', 'pixel2320', 'pixel2321', 'pixel2322', 'pixel2323', 'pixel2324', 'pixel2325', 'pixel2326', 'pixel2327', 'pixel2328', 'pixel2329', 'pixel2330', 'pixel2331', 'pixel2332', 'pixel2333', 'pixel2334', 'pixel2335', 'pixel2336', 'pixel2337', 'pixel2338', 'pixel2339', 'pixel2340', 'pixel2341', 'pixel2342', 'pixel2343', 'pixel2344', 'pixel2345', 'pixel2346', 'pixel2347', 'pixel2348', 'pixel2349', 'pixel2350', 'pixel2351', 'pixel2352', 'pixel2353', 'pixel2354', 'pixel2355', 'pixel2356', 'pixel2357', 'pixel2358', 'pixel2359', 'pixel2360', 'pixel2361', 'pixel2362', 'pixel2363', 'pixel2364', 'pixel2365', 'pixel2366', 'pixel2367', 'pixel2368', 'pixel2369', 'pixel2370', 'pixel2371', 'pixel2372', 'pixel2373', 'pixel2374', 'pixel2375', 'pixel2376', 'pixel2377', 'pixel2378', 'pixel2379', 'pixel2380', 'pixel2381', 'pixel2382', 'pixel2383', 'pixel2384', 'pixel2385', 'pixel2386', 'pixel2387', 'pixel2388', 'pixel2389', 'pixel2390', 'pixel2391', 'pixel2392', 'pixel2393', 'pixel2394', 'pixel2395', 'pixel2396', 'pixel2397', 'pixel2398', 'pixel2399', 'pixel2400', 'pixel2401', 'pixel2402', 'pixel2403', 'pixel2404', 'pixel2405', 'pixel2406', 'pixel2407', 'pixel2408', 'pixel2409', 'pixel2410', 'pixel2411', 'pixel2412', 'pixel2413', 'pixel2414', 'pixel2415', 'pixel2416', 'pixel2417', 'pixel2418', 'pixel2419', 'pixel2420', 'pixel2421', 'pixel2422', 'pixel2423', 'pixel2424', 'pixel2425', 'pixel2426', 'pixel2427', 'pixel2428', 'pixel2429', 'pixel2430', 'pixel2431', 'pixel2432', 'pixel2433', 'pixel2434', 'pixel2435', 'pixel2436', 'pixel2437', 'pixel2438', 'pixel2439', 'pixel2440', 'pixel2441', 'pixel2442', 'pixel2443', 'pixel2444', 'pixel2445', 'pixel2446', 'pixel2447', 'pixel2448', 'pixel2449', 'pixel2450', 'pixel2451', 'pixel2452', 'pixel2453', 'pixel2454', 'pixel2455', 'pixel2456', 'pixel2457', 'pixel2458', 'pixel2459', 'pixel2460', 'pixel2461', 'pixel2462', 'pixel2463', 'pixel2464', 'pixel2465', 'pixel2466', 'pixel2467', 'pixel2468', 'pixel2469', 'pixel2470', 'pixel2471', 'pixel2472', 'pixel2473', 'pixel2474', 'pixel2475', 'pixel2476', 'pixel2477', 'pixel2478', 'pixel2479', 'pixel2480', 'pixel2481', 'pixel2482', 'pixel2483', 'pixel2484', 'pixel2485', 'pixel2486', 'pixel2487', 'pixel2488', 'pixel2489', 'pixel2490', 'pixel2491', 'pixel2492', 'pixel2493', 'pixel2494', 'pixel2495', 'pixel2496', 'pixel2497', 'pixel2498', 'pixel2499']\n"
          ]
        }
      ]
    },
    {
      "cell_type": "code",
      "source": [
        "def CSV_Out(data,file_name):\n",
        "  f_header=','.join(df_headers)\n",
        "  np.savetxt(file_name+\".csv\", data, delimiter=',', fmt='%s', header=f_header, comments='')"
      ],
      "metadata": {
        "id": "Qp6xWcP9_t88"
      },
      "execution_count": 57,
      "outputs": []
    },
    {
      "cell_type": "code",
      "source": [
        "#Map images to pixels\n",
        "list_files_testpix= pix_mapped(list_files_test)\n",
        "list_files_trainpix = pix_mapped(list_files_train)\n",
        "#print(len(list_files_trainpix))"
      ],
      "metadata": {
        "id": "inZtio8_USDG"
      },
      "execution_count": 49,
      "outputs": []
    },
    {
      "cell_type": "code",
      "source": [
        "val_df = pd.DataFrame(list_files_test, columns =df_headers)\n",
        "train_df=pd.DataFrame(list_files_train, columns =df_headers)"
      ],
      "metadata": {
        "id": "smjoB5p0V9yf"
      },
      "execution_count": null,
      "outputs": []
    },
    {
      "cell_type": "code",
      "execution_count": null,
      "metadata": {
        "id": "qhUIQhQDueCh",
        "colab": {
          "base_uri": "https://localhost:8080/",
          "height": 206
        },
        "outputId": "87811115-d2f4-4dc5-e701-351a502d3ec3"
      },
      "outputs": [
        {
          "output_type": "execute_result",
          "data": {
            "text/plain": [
              "  class  label                                               file\n",
              "0     A     65  AdvanceML/ML_Act01/ASL_Alphabet/asl_alphabet_t...\n",
              "1     A     65  AdvanceML/ML_Act01/ASL_Alphabet/asl_alphabet_t...\n",
              "2     A     65  AdvanceML/ML_Act01/ASL_Alphabet/asl_alphabet_t...\n",
              "3     A     65  AdvanceML/ML_Act01/ASL_Alphabet/asl_alphabet_t...\n",
              "4     A     65  AdvanceML/ML_Act01/ASL_Alphabet/asl_alphabet_t..."
            ],
            "text/html": [
              "\n",
              "  <div id=\"df-05c3db3c-21ca-447b-ad9c-1850c9b2c173\" class=\"colab-df-container\">\n",
              "    <div>\n",
              "<style scoped>\n",
              "    .dataframe tbody tr th:only-of-type {\n",
              "        vertical-align: middle;\n",
              "    }\n",
              "\n",
              "    .dataframe tbody tr th {\n",
              "        vertical-align: top;\n",
              "    }\n",
              "\n",
              "    .dataframe thead th {\n",
              "        text-align: right;\n",
              "    }\n",
              "</style>\n",
              "<table border=\"1\" class=\"dataframe\">\n",
              "  <thead>\n",
              "    <tr style=\"text-align: right;\">\n",
              "      <th></th>\n",
              "      <th>class</th>\n",
              "      <th>label</th>\n",
              "      <th>file</th>\n",
              "    </tr>\n",
              "  </thead>\n",
              "  <tbody>\n",
              "    <tr>\n",
              "      <th>0</th>\n",
              "      <td>A</td>\n",
              "      <td>65</td>\n",
              "      <td>AdvanceML/ML_Act01/ASL_Alphabet/asl_alphabet_t...</td>\n",
              "    </tr>\n",
              "    <tr>\n",
              "      <th>1</th>\n",
              "      <td>A</td>\n",
              "      <td>65</td>\n",
              "      <td>AdvanceML/ML_Act01/ASL_Alphabet/asl_alphabet_t...</td>\n",
              "    </tr>\n",
              "    <tr>\n",
              "      <th>2</th>\n",
              "      <td>A</td>\n",
              "      <td>65</td>\n",
              "      <td>AdvanceML/ML_Act01/ASL_Alphabet/asl_alphabet_t...</td>\n",
              "    </tr>\n",
              "    <tr>\n",
              "      <th>3</th>\n",
              "      <td>A</td>\n",
              "      <td>65</td>\n",
              "      <td>AdvanceML/ML_Act01/ASL_Alphabet/asl_alphabet_t...</td>\n",
              "    </tr>\n",
              "    <tr>\n",
              "      <th>4</th>\n",
              "      <td>A</td>\n",
              "      <td>65</td>\n",
              "      <td>AdvanceML/ML_Act01/ASL_Alphabet/asl_alphabet_t...</td>\n",
              "    </tr>\n",
              "  </tbody>\n",
              "</table>\n",
              "</div>\n",
              "    <div class=\"colab-df-buttons\">\n",
              "\n",
              "  <div class=\"colab-df-container\">\n",
              "    <button class=\"colab-df-convert\" onclick=\"convertToInteractive('df-05c3db3c-21ca-447b-ad9c-1850c9b2c173')\"\n",
              "            title=\"Convert this dataframe to an interactive table.\"\n",
              "            style=\"display:none;\">\n",
              "\n",
              "  <svg xmlns=\"http://www.w3.org/2000/svg\" height=\"24px\" viewBox=\"0 -960 960 960\">\n",
              "    <path d=\"M120-120v-720h720v720H120Zm60-500h600v-160H180v160Zm220 220h160v-160H400v160Zm0 220h160v-160H400v160ZM180-400h160v-160H180v160Zm440 0h160v-160H620v160ZM180-180h160v-160H180v160Zm440 0h160v-160H620v160Z\"/>\n",
              "  </svg>\n",
              "    </button>\n",
              "\n",
              "  <style>\n",
              "    .colab-df-container {\n",
              "      display:flex;\n",
              "      gap: 12px;\n",
              "    }\n",
              "\n",
              "    .colab-df-convert {\n",
              "      background-color: #E8F0FE;\n",
              "      border: none;\n",
              "      border-radius: 50%;\n",
              "      cursor: pointer;\n",
              "      display: none;\n",
              "      fill: #1967D2;\n",
              "      height: 32px;\n",
              "      padding: 0 0 0 0;\n",
              "      width: 32px;\n",
              "    }\n",
              "\n",
              "    .colab-df-convert:hover {\n",
              "      background-color: #E2EBFA;\n",
              "      box-shadow: 0px 1px 2px rgba(60, 64, 67, 0.3), 0px 1px 3px 1px rgba(60, 64, 67, 0.15);\n",
              "      fill: #174EA6;\n",
              "    }\n",
              "\n",
              "    .colab-df-buttons div {\n",
              "      margin-bottom: 4px;\n",
              "    }\n",
              "\n",
              "    [theme=dark] .colab-df-convert {\n",
              "      background-color: #3B4455;\n",
              "      fill: #D2E3FC;\n",
              "    }\n",
              "\n",
              "    [theme=dark] .colab-df-convert:hover {\n",
              "      background-color: #434B5C;\n",
              "      box-shadow: 0px 1px 3px 1px rgba(0, 0, 0, 0.15);\n",
              "      filter: drop-shadow(0px 1px 2px rgba(0, 0, 0, 0.3));\n",
              "      fill: #FFFFFF;\n",
              "    }\n",
              "  </style>\n",
              "\n",
              "    <script>\n",
              "      const buttonEl =\n",
              "        document.querySelector('#df-05c3db3c-21ca-447b-ad9c-1850c9b2c173 button.colab-df-convert');\n",
              "      buttonEl.style.display =\n",
              "        google.colab.kernel.accessAllowed ? 'block' : 'none';\n",
              "\n",
              "      async function convertToInteractive(key) {\n",
              "        const element = document.querySelector('#df-05c3db3c-21ca-447b-ad9c-1850c9b2c173');\n",
              "        const dataTable =\n",
              "          await google.colab.kernel.invokeFunction('convertToInteractive',\n",
              "                                                    [key], {});\n",
              "        if (!dataTable) return;\n",
              "\n",
              "        const docLinkHtml = 'Like what you see? Visit the ' +\n",
              "          '<a target=\"_blank\" href=https://colab.research.google.com/notebooks/data_table.ipynb>data table notebook</a>'\n",
              "          + ' to learn more about interactive tables.';\n",
              "        element.innerHTML = '';\n",
              "        dataTable['output_type'] = 'display_data';\n",
              "        await google.colab.output.renderOutput(dataTable, element);\n",
              "        const docLink = document.createElement('div');\n",
              "        docLink.innerHTML = docLinkHtml;\n",
              "        element.appendChild(docLink);\n",
              "      }\n",
              "    </script>\n",
              "  </div>\n",
              "\n",
              "\n",
              "<div id=\"df-d624d4cf-610e-41a7-bc6e-3eac5cbd7ea8\">\n",
              "  <button class=\"colab-df-quickchart\" onclick=\"quickchart('df-d624d4cf-610e-41a7-bc6e-3eac5cbd7ea8')\"\n",
              "            title=\"Suggest charts.\"\n",
              "            style=\"display:none;\">\n",
              "\n",
              "<svg xmlns=\"http://www.w3.org/2000/svg\" height=\"24px\"viewBox=\"0 0 24 24\"\n",
              "     width=\"24px\">\n",
              "    <g>\n",
              "        <path d=\"M19 3H5c-1.1 0-2 .9-2 2v14c0 1.1.9 2 2 2h14c1.1 0 2-.9 2-2V5c0-1.1-.9-2-2-2zM9 17H7v-7h2v7zm4 0h-2V7h2v10zm4 0h-2v-4h2v4z\"/>\n",
              "    </g>\n",
              "</svg>\n",
              "  </button>\n",
              "\n",
              "<style>\n",
              "  .colab-df-quickchart {\n",
              "      --bg-color: #E8F0FE;\n",
              "      --fill-color: #1967D2;\n",
              "      --hover-bg-color: #E2EBFA;\n",
              "      --hover-fill-color: #174EA6;\n",
              "      --disabled-fill-color: #AAA;\n",
              "      --disabled-bg-color: #DDD;\n",
              "  }\n",
              "\n",
              "  [theme=dark] .colab-df-quickchart {\n",
              "      --bg-color: #3B4455;\n",
              "      --fill-color: #D2E3FC;\n",
              "      --hover-bg-color: #434B5C;\n",
              "      --hover-fill-color: #FFFFFF;\n",
              "      --disabled-bg-color: #3B4455;\n",
              "      --disabled-fill-color: #666;\n",
              "  }\n",
              "\n",
              "  .colab-df-quickchart {\n",
              "    background-color: var(--bg-color);\n",
              "    border: none;\n",
              "    border-radius: 50%;\n",
              "    cursor: pointer;\n",
              "    display: none;\n",
              "    fill: var(--fill-color);\n",
              "    height: 32px;\n",
              "    padding: 0;\n",
              "    width: 32px;\n",
              "  }\n",
              "\n",
              "  .colab-df-quickchart:hover {\n",
              "    background-color: var(--hover-bg-color);\n",
              "    box-shadow: 0 1px 2px rgba(60, 64, 67, 0.3), 0 1px 3px 1px rgba(60, 64, 67, 0.15);\n",
              "    fill: var(--button-hover-fill-color);\n",
              "  }\n",
              "\n",
              "  .colab-df-quickchart-complete:disabled,\n",
              "  .colab-df-quickchart-complete:disabled:hover {\n",
              "    background-color: var(--disabled-bg-color);\n",
              "    fill: var(--disabled-fill-color);\n",
              "    box-shadow: none;\n",
              "  }\n",
              "\n",
              "  .colab-df-spinner {\n",
              "    border: 2px solid var(--fill-color);\n",
              "    border-color: transparent;\n",
              "    border-bottom-color: var(--fill-color);\n",
              "    animation:\n",
              "      spin 1s steps(1) infinite;\n",
              "  }\n",
              "\n",
              "  @keyframes spin {\n",
              "    0% {\n",
              "      border-color: transparent;\n",
              "      border-bottom-color: var(--fill-color);\n",
              "      border-left-color: var(--fill-color);\n",
              "    }\n",
              "    20% {\n",
              "      border-color: transparent;\n",
              "      border-left-color: var(--fill-color);\n",
              "      border-top-color: var(--fill-color);\n",
              "    }\n",
              "    30% {\n",
              "      border-color: transparent;\n",
              "      border-left-color: var(--fill-color);\n",
              "      border-top-color: var(--fill-color);\n",
              "      border-right-color: var(--fill-color);\n",
              "    }\n",
              "    40% {\n",
              "      border-color: transparent;\n",
              "      border-right-color: var(--fill-color);\n",
              "      border-top-color: var(--fill-color);\n",
              "    }\n",
              "    60% {\n",
              "      border-color: transparent;\n",
              "      border-right-color: var(--fill-color);\n",
              "    }\n",
              "    80% {\n",
              "      border-color: transparent;\n",
              "      border-right-color: var(--fill-color);\n",
              "      border-bottom-color: var(--fill-color);\n",
              "    }\n",
              "    90% {\n",
              "      border-color: transparent;\n",
              "      border-bottom-color: var(--fill-color);\n",
              "    }\n",
              "  }\n",
              "</style>\n",
              "\n",
              "  <script>\n",
              "    async function quickchart(key) {\n",
              "      const quickchartButtonEl =\n",
              "        document.querySelector('#' + key + ' button');\n",
              "      quickchartButtonEl.disabled = true;  // To prevent multiple clicks.\n",
              "      quickchartButtonEl.classList.add('colab-df-spinner');\n",
              "      try {\n",
              "        const charts = await google.colab.kernel.invokeFunction(\n",
              "            'suggestCharts', [key], {});\n",
              "      } catch (error) {\n",
              "        console.error('Error during call to suggestCharts:', error);\n",
              "      }\n",
              "      quickchartButtonEl.classList.remove('colab-df-spinner');\n",
              "      quickchartButtonEl.classList.add('colab-df-quickchart-complete');\n",
              "    }\n",
              "    (() => {\n",
              "      let quickchartButtonEl =\n",
              "        document.querySelector('#df-d624d4cf-610e-41a7-bc6e-3eac5cbd7ea8 button');\n",
              "      quickchartButtonEl.style.display =\n",
              "        google.colab.kernel.accessAllowed ? 'block' : 'none';\n",
              "    })();\n",
              "  </script>\n",
              "</div>\n",
              "    </div>\n",
              "  </div>\n"
            ]
          },
          "metadata": {},
          "execution_count": 32
        }
      ],
      "source": [
        "train_df.head()"
      ]
    },
    {
      "cell_type": "code",
      "source": [
        "test_df.head()"
      ],
      "metadata": {
        "colab": {
          "base_uri": "https://localhost:8080/",
          "height": 206
        },
        "id": "MbxH8F7ENv_L",
        "outputId": "c425e470-e527-433a-8413-91902309250d"
      },
      "execution_count": null,
      "outputs": [
        {
          "output_type": "execute_result",
          "data": {
            "text/plain": [
              "  class  label                                               file\n",
              "0     A     65  AdvanceML/ML_Act01/ASL_Alphabet/asl_alphabet_t...\n",
              "1     B     66  AdvanceML/ML_Act01/ASL_Alphabet/asl_alphabet_t...\n",
              "2     C     67  AdvanceML/ML_Act01/ASL_Alphabet/asl_alphabet_t...\n",
              "3     D     68  AdvanceML/ML_Act01/ASL_Alphabet/asl_alphabet_t...\n",
              "4     E     69  AdvanceML/ML_Act01/ASL_Alphabet/asl_alphabet_t..."
            ],
            "text/html": [
              "\n",
              "  <div id=\"df-163d9b56-b56b-4505-992b-d3eb8e1f4db5\" class=\"colab-df-container\">\n",
              "    <div>\n",
              "<style scoped>\n",
              "    .dataframe tbody tr th:only-of-type {\n",
              "        vertical-align: middle;\n",
              "    }\n",
              "\n",
              "    .dataframe tbody tr th {\n",
              "        vertical-align: top;\n",
              "    }\n",
              "\n",
              "    .dataframe thead th {\n",
              "        text-align: right;\n",
              "    }\n",
              "</style>\n",
              "<table border=\"1\" class=\"dataframe\">\n",
              "  <thead>\n",
              "    <tr style=\"text-align: right;\">\n",
              "      <th></th>\n",
              "      <th>class</th>\n",
              "      <th>label</th>\n",
              "      <th>file</th>\n",
              "    </tr>\n",
              "  </thead>\n",
              "  <tbody>\n",
              "    <tr>\n",
              "      <th>0</th>\n",
              "      <td>A</td>\n",
              "      <td>65</td>\n",
              "      <td>AdvanceML/ML_Act01/ASL_Alphabet/asl_alphabet_t...</td>\n",
              "    </tr>\n",
              "    <tr>\n",
              "      <th>1</th>\n",
              "      <td>B</td>\n",
              "      <td>66</td>\n",
              "      <td>AdvanceML/ML_Act01/ASL_Alphabet/asl_alphabet_t...</td>\n",
              "    </tr>\n",
              "    <tr>\n",
              "      <th>2</th>\n",
              "      <td>C</td>\n",
              "      <td>67</td>\n",
              "      <td>AdvanceML/ML_Act01/ASL_Alphabet/asl_alphabet_t...</td>\n",
              "    </tr>\n",
              "    <tr>\n",
              "      <th>3</th>\n",
              "      <td>D</td>\n",
              "      <td>68</td>\n",
              "      <td>AdvanceML/ML_Act01/ASL_Alphabet/asl_alphabet_t...</td>\n",
              "    </tr>\n",
              "    <tr>\n",
              "      <th>4</th>\n",
              "      <td>E</td>\n",
              "      <td>69</td>\n",
              "      <td>AdvanceML/ML_Act01/ASL_Alphabet/asl_alphabet_t...</td>\n",
              "    </tr>\n",
              "  </tbody>\n",
              "</table>\n",
              "</div>\n",
              "    <div class=\"colab-df-buttons\">\n",
              "\n",
              "  <div class=\"colab-df-container\">\n",
              "    <button class=\"colab-df-convert\" onclick=\"convertToInteractive('df-163d9b56-b56b-4505-992b-d3eb8e1f4db5')\"\n",
              "            title=\"Convert this dataframe to an interactive table.\"\n",
              "            style=\"display:none;\">\n",
              "\n",
              "  <svg xmlns=\"http://www.w3.org/2000/svg\" height=\"24px\" viewBox=\"0 -960 960 960\">\n",
              "    <path d=\"M120-120v-720h720v720H120Zm60-500h600v-160H180v160Zm220 220h160v-160H400v160Zm0 220h160v-160H400v160ZM180-400h160v-160H180v160Zm440 0h160v-160H620v160ZM180-180h160v-160H180v160Zm440 0h160v-160H620v160Z\"/>\n",
              "  </svg>\n",
              "    </button>\n",
              "\n",
              "  <style>\n",
              "    .colab-df-container {\n",
              "      display:flex;\n",
              "      gap: 12px;\n",
              "    }\n",
              "\n",
              "    .colab-df-convert {\n",
              "      background-color: #E8F0FE;\n",
              "      border: none;\n",
              "      border-radius: 50%;\n",
              "      cursor: pointer;\n",
              "      display: none;\n",
              "      fill: #1967D2;\n",
              "      height: 32px;\n",
              "      padding: 0 0 0 0;\n",
              "      width: 32px;\n",
              "    }\n",
              "\n",
              "    .colab-df-convert:hover {\n",
              "      background-color: #E2EBFA;\n",
              "      box-shadow: 0px 1px 2px rgba(60, 64, 67, 0.3), 0px 1px 3px 1px rgba(60, 64, 67, 0.15);\n",
              "      fill: #174EA6;\n",
              "    }\n",
              "\n",
              "    .colab-df-buttons div {\n",
              "      margin-bottom: 4px;\n",
              "    }\n",
              "\n",
              "    [theme=dark] .colab-df-convert {\n",
              "      background-color: #3B4455;\n",
              "      fill: #D2E3FC;\n",
              "    }\n",
              "\n",
              "    [theme=dark] .colab-df-convert:hover {\n",
              "      background-color: #434B5C;\n",
              "      box-shadow: 0px 1px 3px 1px rgba(0, 0, 0, 0.15);\n",
              "      filter: drop-shadow(0px 1px 2px rgba(0, 0, 0, 0.3));\n",
              "      fill: #FFFFFF;\n",
              "    }\n",
              "  </style>\n",
              "\n",
              "    <script>\n",
              "      const buttonEl =\n",
              "        document.querySelector('#df-163d9b56-b56b-4505-992b-d3eb8e1f4db5 button.colab-df-convert');\n",
              "      buttonEl.style.display =\n",
              "        google.colab.kernel.accessAllowed ? 'block' : 'none';\n",
              "\n",
              "      async function convertToInteractive(key) {\n",
              "        const element = document.querySelector('#df-163d9b56-b56b-4505-992b-d3eb8e1f4db5');\n",
              "        const dataTable =\n",
              "          await google.colab.kernel.invokeFunction('convertToInteractive',\n",
              "                                                    [key], {});\n",
              "        if (!dataTable) return;\n",
              "\n",
              "        const docLinkHtml = 'Like what you see? Visit the ' +\n",
              "          '<a target=\"_blank\" href=https://colab.research.google.com/notebooks/data_table.ipynb>data table notebook</a>'\n",
              "          + ' to learn more about interactive tables.';\n",
              "        element.innerHTML = '';\n",
              "        dataTable['output_type'] = 'display_data';\n",
              "        await google.colab.output.renderOutput(dataTable, element);\n",
              "        const docLink = document.createElement('div');\n",
              "        docLink.innerHTML = docLinkHtml;\n",
              "        element.appendChild(docLink);\n",
              "      }\n",
              "    </script>\n",
              "  </div>\n",
              "\n",
              "\n",
              "<div id=\"df-03854453-05a1-4f78-8e85-5dd37c0fb5fe\">\n",
              "  <button class=\"colab-df-quickchart\" onclick=\"quickchart('df-03854453-05a1-4f78-8e85-5dd37c0fb5fe')\"\n",
              "            title=\"Suggest charts.\"\n",
              "            style=\"display:none;\">\n",
              "\n",
              "<svg xmlns=\"http://www.w3.org/2000/svg\" height=\"24px\"viewBox=\"0 0 24 24\"\n",
              "     width=\"24px\">\n",
              "    <g>\n",
              "        <path d=\"M19 3H5c-1.1 0-2 .9-2 2v14c0 1.1.9 2 2 2h14c1.1 0 2-.9 2-2V5c0-1.1-.9-2-2-2zM9 17H7v-7h2v7zm4 0h-2V7h2v10zm4 0h-2v-4h2v4z\"/>\n",
              "    </g>\n",
              "</svg>\n",
              "  </button>\n",
              "\n",
              "<style>\n",
              "  .colab-df-quickchart {\n",
              "      --bg-color: #E8F0FE;\n",
              "      --fill-color: #1967D2;\n",
              "      --hover-bg-color: #E2EBFA;\n",
              "      --hover-fill-color: #174EA6;\n",
              "      --disabled-fill-color: #AAA;\n",
              "      --disabled-bg-color: #DDD;\n",
              "  }\n",
              "\n",
              "  [theme=dark] .colab-df-quickchart {\n",
              "      --bg-color: #3B4455;\n",
              "      --fill-color: #D2E3FC;\n",
              "      --hover-bg-color: #434B5C;\n",
              "      --hover-fill-color: #FFFFFF;\n",
              "      --disabled-bg-color: #3B4455;\n",
              "      --disabled-fill-color: #666;\n",
              "  }\n",
              "\n",
              "  .colab-df-quickchart {\n",
              "    background-color: var(--bg-color);\n",
              "    border: none;\n",
              "    border-radius: 50%;\n",
              "    cursor: pointer;\n",
              "    display: none;\n",
              "    fill: var(--fill-color);\n",
              "    height: 32px;\n",
              "    padding: 0;\n",
              "    width: 32px;\n",
              "  }\n",
              "\n",
              "  .colab-df-quickchart:hover {\n",
              "    background-color: var(--hover-bg-color);\n",
              "    box-shadow: 0 1px 2px rgba(60, 64, 67, 0.3), 0 1px 3px 1px rgba(60, 64, 67, 0.15);\n",
              "    fill: var(--button-hover-fill-color);\n",
              "  }\n",
              "\n",
              "  .colab-df-quickchart-complete:disabled,\n",
              "  .colab-df-quickchart-complete:disabled:hover {\n",
              "    background-color: var(--disabled-bg-color);\n",
              "    fill: var(--disabled-fill-color);\n",
              "    box-shadow: none;\n",
              "  }\n",
              "\n",
              "  .colab-df-spinner {\n",
              "    border: 2px solid var(--fill-color);\n",
              "    border-color: transparent;\n",
              "    border-bottom-color: var(--fill-color);\n",
              "    animation:\n",
              "      spin 1s steps(1) infinite;\n",
              "  }\n",
              "\n",
              "  @keyframes spin {\n",
              "    0% {\n",
              "      border-color: transparent;\n",
              "      border-bottom-color: var(--fill-color);\n",
              "      border-left-color: var(--fill-color);\n",
              "    }\n",
              "    20% {\n",
              "      border-color: transparent;\n",
              "      border-left-color: var(--fill-color);\n",
              "      border-top-color: var(--fill-color);\n",
              "    }\n",
              "    30% {\n",
              "      border-color: transparent;\n",
              "      border-left-color: var(--fill-color);\n",
              "      border-top-color: var(--fill-color);\n",
              "      border-right-color: var(--fill-color);\n",
              "    }\n",
              "    40% {\n",
              "      border-color: transparent;\n",
              "      border-right-color: var(--fill-color);\n",
              "      border-top-color: var(--fill-color);\n",
              "    }\n",
              "    60% {\n",
              "      border-color: transparent;\n",
              "      border-right-color: var(--fill-color);\n",
              "    }\n",
              "    80% {\n",
              "      border-color: transparent;\n",
              "      border-right-color: var(--fill-color);\n",
              "      border-bottom-color: var(--fill-color);\n",
              "    }\n",
              "    90% {\n",
              "      border-color: transparent;\n",
              "      border-bottom-color: var(--fill-color);\n",
              "    }\n",
              "  }\n",
              "</style>\n",
              "\n",
              "  <script>\n",
              "    async function quickchart(key) {\n",
              "      const quickchartButtonEl =\n",
              "        document.querySelector('#' + key + ' button');\n",
              "      quickchartButtonEl.disabled = true;  // To prevent multiple clicks.\n",
              "      quickchartButtonEl.classList.add('colab-df-spinner');\n",
              "      try {\n",
              "        const charts = await google.colab.kernel.invokeFunction(\n",
              "            'suggestCharts', [key], {});\n",
              "      } catch (error) {\n",
              "        console.error('Error during call to suggestCharts:', error);\n",
              "      }\n",
              "      quickchartButtonEl.classList.remove('colab-df-spinner');\n",
              "      quickchartButtonEl.classList.add('colab-df-quickchart-complete');\n",
              "    }\n",
              "    (() => {\n",
              "      let quickchartButtonEl =\n",
              "        document.querySelector('#df-03854453-05a1-4f78-8e85-5dd37c0fb5fe button');\n",
              "      quickchartButtonEl.style.display =\n",
              "        google.colab.kernel.accessAllowed ? 'block' : 'none';\n",
              "    })();\n",
              "  </script>\n",
              "</div>\n",
              "    </div>\n",
              "  </div>\n"
            ]
          },
          "metadata": {},
          "execution_count": 33
        }
      ]
    },
    {
      "cell_type": "code",
      "source": [
        "train_df.label.unique()"
      ],
      "metadata": {
        "id": "479KelyRZlEC",
        "outputId": "42268835-10e2-4061-cfdb-d09ba846b614",
        "colab": {
          "base_uri": "https://localhost:8080/"
        }
      },
      "execution_count": null,
      "outputs": [
        {
          "output_type": "execute_result",
          "data": {
            "text/plain": [
              "array([ 65,  66,  67,  68, 100,  69,  70,  71,  72,  73,  74,  75,  76,\n",
              "        77,  78, 110,  79,  80,  81,  82,  83, 115,  84,  85,  86,  87,\n",
              "        88,  89,  90])"
            ]
          },
          "metadata": {},
          "execution_count": 34
        }
      ]
    },
    {
      "cell_type": "markdown",
      "metadata": {
        "id": "q59C9fVSueCh"
      },
      "source": [
        "### Importar Images"
      ]
    },
    {
      "cell_type": "code",
      "source": [
        "from PIL import Image\n",
        "\n",
        "img = Image.open('sample_data/image.jpg')\n",
        "img.thumbnail((256,256), Image.ANTIALIAS) # Resize to half to reduce the size of this notebook."
      ],
      "metadata": {
        "id": "3KqXJ2d3VuR5"
      },
      "execution_count": null,
      "outputs": []
    },
    {
      "cell_type": "code",
      "execution_count": null,
      "metadata": {
        "id": "b65nNyeOueCh",
        "outputId": "bfa7d320-3809-4f72-e0df-53d808c811f7",
        "colab": {
          "base_uri": "https://localhost:8080/",
          "height": 233
        }
      },
      "outputs": [
        {
          "output_type": "error",
          "ename": "ValueError",
          "evalue": "ignored",
          "traceback": [
            "\u001b[0;31m---------------------------------------------------------------------------\u001b[0m",
            "\u001b[0;31mValueError\u001b[0m                                Traceback (most recent call last)",
            "\u001b[0;32m<ipython-input-10-d73e2e1a238d>\u001b[0m in \u001b[0;36m<cell line: 5>\u001b[0;34m()\u001b[0m\n\u001b[1;32m      3\u001b[0m \u001b[0;32mdel\u001b[0m \u001b[0mtrain_df\u001b[0m\u001b[0;34m[\u001b[0m\u001b[0;34m'label'\u001b[0m\u001b[0;34m]\u001b[0m\u001b[0;34m\u001b[0m\u001b[0;34m\u001b[0m\u001b[0m\n\u001b[1;32m      4\u001b[0m \u001b[0;32mdel\u001b[0m \u001b[0mtest_df\u001b[0m\u001b[0;34m[\u001b[0m\u001b[0;34m'label'\u001b[0m\u001b[0;34m]\u001b[0m\u001b[0;34m\u001b[0m\u001b[0;34m\u001b[0m\u001b[0m\n\u001b[0;32m----> 5\u001b[0;31m \u001b[0mX_train\u001b[0m \u001b[0;34m=\u001b[0m \u001b[0mtrain_df\u001b[0m\u001b[0;34m.\u001b[0m\u001b[0mvalues\u001b[0m\u001b[0;34m.\u001b[0m\u001b[0mastype\u001b[0m\u001b[0;34m(\u001b[0m\u001b[0mnp\u001b[0m\u001b[0;34m.\u001b[0m\u001b[0mfloat32\u001b[0m\u001b[0;34m)\u001b[0m\u001b[0;34m\u001b[0m\u001b[0;34m\u001b[0m\u001b[0m\n\u001b[0m\u001b[1;32m      6\u001b[0m \u001b[0mX_val\u001b[0m \u001b[0;34m=\u001b[0m \u001b[0mtest_df\u001b[0m\u001b[0;34m.\u001b[0m\u001b[0mvalues\u001b[0m\u001b[0;34m.\u001b[0m\u001b[0mastype\u001b[0m\u001b[0;34m(\u001b[0m\u001b[0mnp\u001b[0m\u001b[0;34m.\u001b[0m\u001b[0mfloat32\u001b[0m\u001b[0;34m)\u001b[0m\u001b[0;34m\u001b[0m\u001b[0;34m\u001b[0m\u001b[0m\n",
            "\u001b[0;31mValueError\u001b[0m: could not convert string to float: 'AdvanceML/ML_Act01/ASL_Alphabet/asl_alphabet_train/A/A561.jpg'"
          ]
        }
      ],
      "source": [
        "Y_train = np.array(train_df['label'])\n",
        "Y_val = np.array(test_df['label'])\n",
        "del train_df['label']\n",
        "del test_df['label']\n",
        "X_train = train_df.values.astype(np.float32)\n",
        "X_val = test_df.values.astype(np.float32)"
      ]
    },
    {
      "cell_type": "code",
      "execution_count": null,
      "metadata": {
        "code_folding": [],
        "id": "g039zxnSueCh"
      },
      "outputs": [],
      "source": [
        "def split_val_test(x, y, pct=0.5, shuffle=True):\n",
        "\n",
        "x_train, x_val_and_test, y_train, y_val_and_test = train_test_split(X_train, Y_train, train_size=.70, shuffle=True, random_state=1)\n",
        "x_val, x_test, y_val, y_test = train_test_split(x_val_and_test, y_val_and_test, test_size=.50, shuffle=True, random_state=17)\n",
        "\n",
        "print('X,y Train:', len(x_train), len(y_train))      # los \"x_\" son \"list\" y los \"y_\" son \"Series\"\n",
        "print('X,y Val:', len(x_val), len(y_val))\n",
        "print('X,y Test', len(x_test), len(y_test))\n",
        "    pass"
      ]
    },
    {
      "cell_type": "code",
      "execution_count": null,
      "metadata": {
        "id": "fGhadzI1ueCi"
      },
      "outputs": [],
      "source": [
        "x_val, y_val, x_test, y_test = split_val_test(x_val, y_val)"
      ]
    },
    {
      "cell_type": "code",
      "execution_count": null,
      "metadata": {
        "id": "clWzvU6uueCi"
      },
      "outputs": [],
      "source": [
        "### The following\n",
        "\n",
        "alphabet=list(string.ascii_lowercase)\n",
        "alphabet.remove('j')\n",
        "alphabet.remove('z')\n",
        "print(len(alphabet))"
      ]
    },
    {
      "cell_type": "markdown",
      "metadata": {
        "id": "LbE23tprueCj"
      },
      "source": [
        "### Normalise"
      ]
    },
    {
      "cell_type": "markdown",
      "metadata": {
        "id": "Vl3OAd6QueCj"
      },
      "source": [
        "### Graficar muestras"
      ]
    },
    {
      "cell_type": "markdown",
      "metadata": {
        "id": "QCsyMcefueCj"
      },
      "source": [
        "### Ecuaciones para nuestro modelo\n",
        "\n",
        "\n",
        "$$z^1 = W^1 X + b^1$$\n",
        "\n",
        "$$a^1 = ReLU(z^1) $$\n",
        "\n",
        "$$z^2 = W^2 a^1 + b^2$$\n",
        "\n",
        "$$\\hat{y} = \\frac{e^{z^{2_k}}}{\\sum_j{e^{z_j}}}$$\n",
        "\n",
        "\n",
        "$$ \\mathcal{L}(\\hat{y}^{i}, y^{i}) =  - y^{i}  \\ln(\\hat{y}^{i}) = -\\ln(\\hat{y}^i)$$\n",
        "\n",
        "\n",
        "$$ \\mathcal{J}(w, b) =  \\frac{1}{num\\_samples} \\sum_{i=1}^{num\\_samples}-\\ln(\\hat{y}^{i})$$"
      ]
    },
    {
      "cell_type": "markdown",
      "metadata": {
        "id": "nj0ymsCtueCj"
      },
      "source": [
        "### Funciones adicionales"
      ]
    },
    {
      "cell_type": "markdown",
      "metadata": {
        "id": "umuvkgjiueCj"
      },
      "source": [
        "#### Mini batches"
      ]
    },
    {
      "cell_type": "code",
      "execution_count": null,
      "metadata": {
        "id": "JDoWk5zUueCk"
      },
      "outputs": [],
      "source": []
    },
    {
      "cell_type": "code",
      "execution_count": null,
      "metadata": {
        "id": "sfqWl1MGueCk"
      },
      "outputs": [],
      "source": []
    },
    {
      "cell_type": "markdown",
      "metadata": {
        "id": "iz5FDvT4ueCk"
      },
      "source": [
        "## Nuestra clase Linear, ReLU y Sequential"
      ]
    },
    {
      "cell_type": "markdown",
      "metadata": {
        "id": "LntJEtj6ueCk"
      },
      "source": [
        "###  Clase Linear"
      ]
    },
    {
      "cell_type": "markdown",
      "metadata": {
        "id": "qCn2wkctueCk"
      },
      "source": [
        "### Clase ReLU"
      ]
    },
    {
      "cell_type": "markdown",
      "metadata": {
        "id": "dLIz1jFmueCk"
      },
      "source": [
        "### Clase Sequential"
      ]
    },
    {
      "cell_type": "markdown",
      "metadata": {
        "id": "IdL0t9Y2ueCk"
      },
      "source": [
        "### Cost Function"
      ]
    },
    {
      "cell_type": "markdown",
      "metadata": {
        "id": "IBG9Rxm2ueCk"
      },
      "source": [
        "### Loop de entrenamiento"
      ]
    },
    {
      "cell_type": "markdown",
      "metadata": {
        "id": "0Q7yQ2bQueCl"
      },
      "source": [
        "### Create your model and train it"
      ]
    },
    {
      "cell_type": "code",
      "execution_count": null,
      "metadata": {
        "id": "Wn2q9z-SueCl"
      },
      "outputs": [],
      "source": [
        "\n"
      ]
    },
    {
      "cell_type": "markdown",
      "metadata": {
        "id": "9A3A3_tkueCl"
      },
      "source": [
        "### Test your model on Random data from your test set"
      ]
    },
    {
      "cell_type": "code",
      "execution_count": null,
      "metadata": {
        "id": "ExVOx7yNueCl"
      },
      "outputs": [],
      "source": [
        "idx = np.random.randint(len(y_test))\n",
        "plot_number(x_test[idx].reshape(28,28))\n",
        "pred = model.predict(x_test[idx].reshape(-1, 1))\n",
        "print(f'el valor predicho es: {alphabet[pred]} el valor real es:{alphabet[y_test[idx]]}')"
      ]
    },
    {
      "cell_type": "code",
      "execution_count": null,
      "metadata": {
        "id": "1zQmZ322ueCl"
      },
      "outputs": [],
      "source": []
    }
  ],
  "metadata": {
    "kernelspec": {
      "display_name": "Python 3 (ipykernel)",
      "language": "python",
      "name": "python3"
    },
    "language_info": {
      "codemirror_mode": {
        "name": "ipython",
        "version": 3
      },
      "file_extension": ".py",
      "mimetype": "text/x-python",
      "name": "python",
      "nbconvert_exporter": "python",
      "pygments_lexer": "ipython3",
      "version": "3.9.0"
    },
    "toc": {
      "base_numbering": 1,
      "nav_menu": {},
      "number_sections": true,
      "sideBar": true,
      "skip_h1_title": false,
      "title_cell": "Table of Contents",
      "title_sidebar": "Contents",
      "toc_cell": false,
      "toc_position": {},
      "toc_section_display": true,
      "toc_window_display": false
    },
    "varInspector": {
      "cols": {
        "lenName": 16,
        "lenType": 16,
        "lenVar": 40
      },
      "kernels_config": {
        "python": {
          "delete_cmd_postfix": "",
          "delete_cmd_prefix": "del ",
          "library": "var_list.py",
          "varRefreshCmd": "print(var_dic_list())"
        },
        "r": {
          "delete_cmd_postfix": ") ",
          "delete_cmd_prefix": "rm(",
          "library": "var_list.r",
          "varRefreshCmd": "cat(var_dic_list()) "
        }
      },
      "types_to_exclude": [
        "module",
        "function",
        "builtin_function_or_method",
        "instance",
        "_Feature"
      ],
      "window_display": false
    },
    "colab": {
      "provenance": [],
      "include_colab_link": true
    }
  },
  "nbformat": 4,
  "nbformat_minor": 0
}