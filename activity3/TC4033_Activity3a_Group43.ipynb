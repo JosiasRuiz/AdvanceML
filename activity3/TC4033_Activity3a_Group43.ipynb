{
  "cells": [
    {
      "cell_type": "markdown",
      "id": "c6142099",
      "metadata": {
        "id": "c6142099"
      },
      "source": [
        "## TC 5033\n",
        "### Word Embeddings\n",
        "\n",
        "<br>\n",
        "\n",
        "#### Activity 3a: Exploring Word Embeddings with GloVe and Numpy\n",
        "<br>\n",
        "\n",
        "- Objective:\n",
        "    - To understand the concept of word embeddings and their significance in Natural Language Processing.\n",
        "    - To learn how to manipulate and visualize high-dimensional data using dimensionality reduction techniques like PCA and t-SNE.\n",
        "    - To gain hands-on experience in implementing word similarity and analogies using GloVe embeddings and Numpy.\n",
        "    \n",
        "<br>\n",
        "\n",
        "- Instructions:\n",
        "    - Download GloVe pre-trained vectors from the provided link in Canvas, the official public project:\n",
        "    Jeffrey Pennington, Richard Socher, and Christopher D. Manning. 2014. GloVe: Global Vectors for Word Representation\n",
        "    https://nlp.stanford.edu/data/glove.6B.zip\n",
        "\n",
        "    - Create a dictorionay of the embeddings so that you carry out fast look ups. Save that dictionary e.g. as a serialized file for faster loading in future uses.\n",
        "    \n",
        "    - PCA and t-SNE Visualization: After loading the GloVe embeddings, use Numpy and Sklearn to perform PCA and t-SNE to reduce the dimensionality of the embeddings and visualize them in a 2D or 3D space.\n",
        "\n",
        "    - Word Similarity: Implement a function that takes a word as input and returns the 'n' most similar words based on their embeddings. You should use Numpy to implement this function, using libraries that already implement this function (e.g. Gensim) will result in zero points.\n",
        "\n",
        "    - Word Analogies: Implement a function to solve analogies between words. For example, \"man is to king as woman is to ____\". You should use Numpy to implement this function, using libraries that already implement this function (e.g. Gensim) will result in zero points.\n",
        "\n",
        "    - Submission: This activity is to be submitted in teams of 3 or 4. Only one person should submit the final work, with the full names of all team members included in a markdown cell at the beginning of the notebook.\n",
        "    \n",
        "<br>\n",
        "\n",
        "- Evaluation Criteria:\n",
        "\n",
        "    - Code Quality (40%): Your code should be well-organized, clearly commented, and easy to follow. Use also markdown cells for clarity.\n",
        "    \n",
        "   - Functionality (60%): All functions should work as intended, without errors.\n",
        "       - Visualization of PCA and t-SNE (10% each for a total of 20%)\n",
        "       - Similarity function (20%)\n",
        "       - Analogy function (20%)\n",
        "|\n",
        "\n"
      ]
    },
    {
      "cell_type": "markdown",
      "source": [
        "## Group 43\n",
        "\n",
        "* Andrea M. Ruiz G. - A01794631\n",
        "* Josías Ruiz P. - A00968460\n",
        "* Saúl Y. Salgueiro L. - A0XXXXXXX\n",
        "* Jesús Á. Salazar M. - A00513236"
      ],
      "metadata": {
        "id": "gI9KtyH-HRku"
      },
      "id": "gI9KtyH-HRku"
    },
    {
      "cell_type": "markdown",
      "id": "329dd09a",
      "metadata": {
        "id": "329dd09a"
      },
      "source": [
        "#### Import libraries"
      ]
    },
    {
      "cell_type": "code",
      "execution_count": 1,
      "id": "4af04b9d",
      "metadata": {
        "id": "4af04b9d"
      },
      "outputs": [],
      "source": [
        "# Import libraries\n",
        "import torch\n",
        "import torch.nn.functional as F\n",
        "from sklearn.manifold import TSNE\n",
        "from sklearn.decomposition import PCA\n",
        "import matplotlib.pyplot as plt\n",
        "import numpy as np\n",
        "from numpy.linalg import norm\n",
        "import pickle\n",
        "plt.style.use('ggplot')"
      ]
    },
    {
      "cell_type": "markdown",
      "id": "8712cf42",
      "metadata": {
        "id": "8712cf42"
      },
      "source": [
        "#### Load file"
      ]
    },
    {
      "cell_type": "code",
      "execution_count": 2,
      "id": "8c3c9d2a",
      "metadata": {
        "id": "8c3c9d2a"
      },
      "outputs": [],
      "source": [
        "# PATH = '/media/pepe/DataUbuntu/Databases/glove_embeddings/glove.6B.200d.txt'\n",
        "# PATH = '/media/pepe/DataUbuntu/Databases/glove_embeddings/glove.6B.50d.txt'\n",
        "\n",
        "PATH = './glove.6B.50d.txt'             # PATH to the glove_embeddings\n",
        "emb_dim = 50                            # Specify the dimentions of the embedded words"
      ]
    },
    {
      "cell_type": "code",
      "execution_count": 5,
      "id": "25a1eae6",
      "metadata": {
        "code_folding": [],
        "id": "25a1eae6"
      },
      "outputs": [],
      "source": [
        "# Create dictionary with embeddings\n",
        "def create_emb_dictionary(path : str, encoding = 'utf-8') -> dict:\n",
        "  \"\"\"Creates a dictionary<string, np.array> based on the given glove file\n",
        "\n",
        "  Parameters\n",
        "  ----------\n",
        "  path: str, required\n",
        "    Path to the glove.6B file\n",
        "\n",
        "  encoding: str, optional (default utf-8)\n",
        "    Specify the encoding to parse the file\n",
        "\n",
        "  Returns\n",
        "  -------\n",
        "  dict\n",
        "    embedded words by word\n",
        "  \"\"\"\n",
        "\n",
        "  embeddingsByWord = {}                                                 # initializes dictionary where the key is the word and value is the embedded word\n",
        "  with open(path, encoding = encoding) as lines:                        # reading txt file and saving its content as \"lines\"\n",
        "    for line in lines:\n",
        "      values = line.split()                                             # retrieving all values in the value\n",
        "      word = values[0]                                                  # saving the first element\n",
        "      embeddedWord = np.asarray(values[1:],dtype = 'float32')           # casting the rest of the elements as a numpy array\n",
        "      embeddingsByWord[word] = embeddedWord                             # updating dictionary\n",
        "\n",
        "  return embeddingsByWord"
      ]
    },
    {
      "cell_type": "code",
      "execution_count": 6,
      "id": "347a0e5e",
      "metadata": {
        "code_folding": [],
        "id": "347a0e5e"
      },
      "outputs": [],
      "source": [
        "# create dictionary\n",
        "embeddings_dict = create_emb_dictionary(PATH)"
      ]
    },
    {
      "cell_type": "code",
      "execution_count": 7,
      "id": "1f01b760",
      "metadata": {
        "code_folding": [
          1
        ],
        "id": "1f01b760"
      },
      "outputs": [],
      "source": [
        "# Serialize\n",
        "with open('embeddings_dict_50D.pkl', 'wb') as f:\n",
        "  pickle.dump(embeddings_dict, f)                     # writes into disk a pickle file based on the embeddings_dict"
      ]
    },
    {
      "cell_type": "markdown",
      "source": [
        "the resulting pickle file can be found in the following link\n",
        "\n",
        "https://drive.google.com/drive/folders/17dh2t3c0juNSGCND1AfxxysVJ0wn71lE?usp=sharing\n"
      ],
      "metadata": {
        "id": "jqieKQioeK_v"
      },
      "id": "jqieKQioeK_v"
    },
    {
      "cell_type": "code",
      "source": [
        "# uncomment the following lines of code to skip the creation of embeddings_dict based on the glove.6B.50d.txt file\n",
        "# Deserialize\n",
        "with open('embeddings_dict_50D.pkl', 'rb') as f:\n",
        "  embeddings_dict = pickle.load(f)                  # recreates embeddings_dict based on previously saved pickle file"
      ],
      "metadata": {
        "id": "eSV3x5DlcrKg"
      },
      "id": "eSV3x5DlcrKg",
      "execution_count": 12,
      "outputs": []
    },
    {
      "cell_type": "markdown",
      "id": "fd0ab9aa",
      "metadata": {
        "id": "fd0ab9aa"
      },
      "source": [
        "#### See some embeddings"
      ]
    },
    {
      "cell_type": "code",
      "execution_count": 14,
      "id": "8b0991a9",
      "metadata": {
        "id": "8b0991a9"
      },
      "outputs": [],
      "source": [
        "# Show some\n",
        "def show_n_first_words(path, n_words):\n",
        "        with open(path, 'r') as f:\n",
        "            for i, line in enumerate(f):\n",
        "                print(line.split(), len(line.split()[1:]))\n",
        "                if i>=n_words: break"
      ]
    },
    {
      "cell_type": "code",
      "execution_count": 15,
      "id": "a16259ec",
      "metadata": {
        "colab": {
          "base_uri": "https://localhost:8080/"
        },
        "id": "a16259ec",
        "outputId": "bd326473-7929-4f27-d7df-34cfc12bca60"
      },
      "outputs": [
        {
          "output_type": "stream",
          "name": "stdout",
          "text": [
            "['the', '0.418', '0.24968', '-0.41242', '0.1217', '0.34527', '-0.044457', '-0.49688', '-0.17862', '-0.00066023', '-0.6566', '0.27843', '-0.14767', '-0.55677', '0.14658', '-0.0095095', '0.011658', '0.10204', '-0.12792', '-0.8443', '-0.12181', '-0.016801', '-0.33279', '-0.1552', '-0.23131', '-0.19181', '-1.8823', '-0.76746', '0.099051', '-0.42125', '-0.19526', '4.0071', '-0.18594', '-0.52287', '-0.31681', '0.00059213', '0.0074449', '0.17778', '-0.15897', '0.012041', '-0.054223', '-0.29871', '-0.15749', '-0.34758', '-0.045637', '-0.44251', '0.18785', '0.0027849', '-0.18411', '-0.11514', '-0.78581'] 50\n",
            "[',', '0.013441', '0.23682', '-0.16899', '0.40951', '0.63812', '0.47709', '-0.42852', '-0.55641', '-0.364', '-0.23938', '0.13001', '-0.063734', '-0.39575', '-0.48162', '0.23291', '0.090201', '-0.13324', '0.078639', '-0.41634', '-0.15428', '0.10068', '0.48891', '0.31226', '-0.1252', '-0.037512', '-1.5179', '0.12612', '-0.02442', '-0.042961', '-0.28351', '3.5416', '-0.11956', '-0.014533', '-0.1499', '0.21864', '-0.33412', '-0.13872', '0.31806', '0.70358', '0.44858', '-0.080262', '0.63003', '0.32111', '-0.46765', '0.22786', '0.36034', '-0.37818', '-0.56657', '0.044691', '0.30392'] 50\n",
            "['.', '0.15164', '0.30177', '-0.16763', '0.17684', '0.31719', '0.33973', '-0.43478', '-0.31086', '-0.44999', '-0.29486', '0.16608', '0.11963', '-0.41328', '-0.42353', '0.59868', '0.28825', '-0.11547', '-0.041848', '-0.67989', '-0.25063', '0.18472', '0.086876', '0.46582', '0.015035', '0.043474', '-1.4671', '-0.30384', '-0.023441', '0.30589', '-0.21785', '3.746', '0.0042284', '-0.18436', '-0.46209', '0.098329', '-0.11907', '0.23919', '0.1161', '0.41705', '0.056763', '-6.3681e-05', '0.068987', '0.087939', '-0.10285', '-0.13931', '0.22314', '-0.080803', '-0.35652', '0.016413', '0.10216'] 50\n",
            "['of', '0.70853', '0.57088', '-0.4716', '0.18048', '0.54449', '0.72603', '0.18157', '-0.52393', '0.10381', '-0.17566', '0.078852', '-0.36216', '-0.11829', '-0.83336', '0.11917', '-0.16605', '0.061555', '-0.012719', '-0.56623', '0.013616', '0.22851', '-0.14396', '-0.067549', '-0.38157', '-0.23698', '-1.7037', '-0.86692', '-0.26704', '-0.2589', '0.1767', '3.8676', '-0.1613', '-0.13273', '-0.68881', '0.18444', '0.0052464', '-0.33874', '-0.078956', '0.24185', '0.36576', '-0.34727', '0.28483', '0.075693', '-0.062178', '-0.38988', '0.22902', '-0.21617', '-0.22562', '-0.093918', '-0.80375'] 50\n",
            "['to', '0.68047', '-0.039263', '0.30186', '-0.17792', '0.42962', '0.032246', '-0.41376', '0.13228', '-0.29847', '-0.085253', '0.17118', '0.22419', '-0.10046', '-0.43653', '0.33418', '0.67846', '0.057204', '-0.34448', '-0.42785', '-0.43275', '0.55963', '0.10032', '0.18677', '-0.26854', '0.037334', '-2.0932', '0.22171', '-0.39868', '0.20912', '-0.55725', '3.8826', '0.47466', '-0.95658', '-0.37788', '0.20869', '-0.32752', '0.12751', '0.088359', '0.16351', '-0.21634', '-0.094375', '0.018324', '0.21048', '-0.03088', '-0.19722', '0.082279', '-0.09434', '-0.073297', '-0.064699', '-0.26044'] 50\n",
            "['and', '0.26818', '0.14346', '-0.27877', '0.016257', '0.11384', '0.69923', '-0.51332', '-0.47368', '-0.33075', '-0.13834', '0.2702', '0.30938', '-0.45012', '-0.4127', '-0.09932', '0.038085', '0.029749', '0.10076', '-0.25058', '-0.51818', '0.34558', '0.44922', '0.48791', '-0.080866', '-0.10121', '-1.3777', '-0.10866', '-0.23201', '0.012839', '-0.46508', '3.8463', '0.31362', '0.13643', '-0.52244', '0.3302', '0.33707', '-0.35601', '0.32431', '0.12041', '0.3512', '-0.069043', '0.36885', '0.25168', '-0.24517', '0.25381', '0.1367', '-0.31178', '-0.6321', '-0.25028', '-0.38097'] 50\n"
          ]
        }
      ],
      "source": [
        "# displays the first 5 lines in the glove.6B.50d.txt file\n",
        "show_n_first_words(PATH, 5)"
      ]
    },
    {
      "cell_type": "markdown",
      "id": "ff828123",
      "metadata": {
        "id": "ff828123"
      },
      "source": [
        "### Plot some embeddings"
      ]
    },
    {
      "cell_type": "code",
      "execution_count": 107,
      "id": "3d3ffaa4",
      "metadata": {
        "id": "3d3ffaa4"
      },
      "outputs": [],
      "source": [
        "def plot_embeddings(emb_path, words2show, emb_dim, embeddings_dict, func = PCA):\n",
        "  \"\"\"Plots the embedded words using PCA/TSNE\n",
        "\n",
        "  Parameters\n",
        "  ----------\n",
        "  words2show: list<str>, required\n",
        "    words to plot\n",
        "\n",
        "  embeddings_dict: dict<str, np.array>, required\n",
        "    embedded words by word\n",
        "\n",
        "  Returns\n",
        "  -------\n",
        "  np.array\n",
        "    embedded words\n",
        "  \"\"\"\n",
        "  array = []                                                                                # initializes array to temporarily store the embedded words to show\n",
        "  for word in words2show:\n",
        "    array.append(embeddings_dict[word])                                                     # adds the embedded word to the array\n",
        "\n",
        "  embeddings = np.array(array)                                                              # converts array to np array (needed for TSNE)\n",
        "  model = func(n_components = 2)                                                            # creates model (PCA / TSNE) and specifiy the number of components that input should be reduced to\n",
        "  transformedData = model.fit_transform(embeddings)                                         # fits X into an embedded space\n",
        "\n",
        "  plt.figure(figsize = (8,6))\n",
        "  plt.scatter(transformedData[:,0], transformedData[:, 1], c = range(0, len(words2show)))   # plots projected data in a scatter graph\n",
        "\n",
        "  return embeddings"
      ]
    },
    {
      "cell_type": "code",
      "execution_count": 108,
      "id": "9b1b120a",
      "metadata": {
        "id": "9b1b120a"
      },
      "outputs": [],
      "source": [
        "words= ['burger', 'tortilla', 'bread', 'pizza', 'beef', 'steak', 'fries', 'chips',\n",
        "            'argentina', 'mexico', 'spain', 'usa', 'france', 'italy', 'greece', 'china',\n",
        "            'water', 'beer', 'tequila', 'wine', 'whisky', 'brandy', 'vodka', 'coffee', 'tea',\n",
        "            'apple', 'banana', 'orange', 'lemon', 'grapefruit', 'grape', 'strawberry', 'raspberry',\n",
        "            'school', 'work', 'university', 'highschool']\n"
      ]
    },
    {
      "cell_type": "code",
      "execution_count": 109,
      "id": "87d33789",
      "metadata": {
        "colab": {
          "base_uri": "https://localhost:8080/",
          "height": 748
        },
        "id": "87d33789",
        "outputId": "64923023-d755-46e7-84ab-c97eb4383b29"
      },
      "outputs": [
        {
          "output_type": "execute_result",
          "data": {
            "text/plain": [
              "array([[ 0.36973 , -1.1797  , -0.92375 , ..., -0.54113 ,  0.21458 ,\n",
              "         0.8122  ],\n",
              "       [-0.80619 , -1.0245  , -0.28062 , ..., -0.47771 , -0.30275 ,\n",
              "         0.012332],\n",
              "       [-0.37436 , -0.11959 , -0.87609 , ..., -0.10138 , -0.51135 ,\n",
              "        -0.18633 ],\n",
              "       ...,\n",
              "       [ 0.51359 ,  0.19695 , -0.51944 , ...,  0.046842, -0.62897 ,\n",
              "         0.35726 ],\n",
              "       [-1.1082  ,  1.2916  , -0.78751 , ...,  0.26268 , -0.54315 ,\n",
              "         0.035944],\n",
              "       [-0.94611 ,  0.64416 , -0.30484 , ...,  0.092469,  0.54045 ,\n",
              "        -0.28299 ]], dtype=float32)"
            ]
          },
          "metadata": {},
          "execution_count": 109
        },
        {
          "output_type": "display_data",
          "data": {
            "text/plain": [
              "<Figure size 800x600 with 1 Axes>"
            ],
            "image/png": "[encoded data removed]"
          },
          "metadata": {}
        }
      ],
      "source": [
        "#\n",
        "plot_embeddings(PATH, words, emb_dim, embeddings_dict, PCA)"
      ]
    },
    {
      "cell_type": "code",
      "execution_count": 110,
      "id": "f22bacb4",
      "metadata": {
        "colab": {
          "base_uri": "https://localhost:8080/",
          "height": 522
        },
        "id": "f22bacb4",
        "outputId": "047471b9-0bb4-4dcd-e4a5-f4289eeca7e1"
      },
      "outputs": [
        {
          "output_type": "display_data",
          "data": {
            "text/plain": [
              "<Figure size 800x600 with 1 Axes>"
            ],
            "image/png": "[encoded data removed]"
          },
          "metadata": {}
        }
      ],
      "source": [
        "# t-SNE dimensionality reduction for visualization\n",
        "embeddings = plot_embeddings(PATH, words, emb_dim, embeddings_dict, TSNE)"
      ]
    },
    {
      "cell_type": "markdown",
      "id": "8211b7f1",
      "metadata": {
        "id": "8211b7f1"
      },
      "source": [
        "### Let us compute analogies"
      ]
    },
    {
      "cell_type": "code",
      "source": [
        "def cosineSimilarity(a : np.array, b : np.array) -> float:\n",
        "  \"\"\"Computes the cosine similarity between two arrays (https://en.wikipedia.org/wiki/Cosine_similarity)\n",
        "\n",
        "  Parameters\n",
        "  ----------\n",
        "  a: np.array, required\n",
        "    vector a\n",
        "\n",
        "  a: np.array, required\n",
        "    vector b\n",
        "\n",
        "  Returns\n",
        "  -------\n",
        "  float\n",
        "    cosine similarity\n",
        "  \"\"\"\n",
        "\n",
        "  dotProduct = np.dot(a, b)                     # calculates the dot product of vectors a and b\n",
        "  normA = norm(a)                               # calculates the L2 (Euclidean) norm of a\n",
        "  normB = norm(b)                               # calculates the L2 (Euclidean) norm of b\n",
        "  return dotProduct / (normA * normB)           # calculates the cosine similarity"
      ],
      "metadata": {
        "id": "i-uW9YzQ3i3m"
      },
      "id": "i-uW9YzQ3i3m",
      "execution_count": 112,
      "outputs": []
    },
    {
      "cell_type": "code",
      "source": [
        "# computes the cosine similarity between good and execellent\n",
        "cosineSimilarity(embeddings_dict['good'], embeddings_dict['excellent'])"
      ],
      "metadata": {
        "colab": {
          "base_uri": "https://localhost:8080/"
        },
        "id": "6PUt65F_6PpM",
        "outputId": "395a5be8-247b-4e67-ba65-7c8c9b1cfbf2"
      },
      "id": "6PUt65F_6PpM",
      "execution_count": 116,
      "outputs": [
        {
          "output_type": "execute_result",
          "data": {
            "text/plain": [
              "0.8061553"
            ]
          },
          "metadata": {},
          "execution_count": 116
        }
      ]
    },
    {
      "cell_type": "code",
      "source": [
        "# most similar\n",
        "def find_most_similar(word, embeddings_dict, top_n=10):\n",
        "  \"\"\"Computes the top n similar words in the embeddings_dict based on a given word\n",
        "\n",
        "  Parameters\n",
        "  ----------\n",
        "  word: string, required\n",
        "    target word\n",
        "\n",
        "  embeddings_dict: dict<str, np.array>, required\n",
        "    dictionary of embedded words\n",
        "\n",
        "  top_n: integer, required\n",
        "    specify how many similar words should be outputted\n",
        "\n",
        "  Returns\n",
        "  -------\n",
        "  list\n",
        "    top n similar words\n",
        "  \"\"\"\n",
        "\n",
        "\n",
        "  # computes the similarity between the given word and all words available embeddings_dict\n",
        "  similaritiesByWord = {\n",
        "    w: cosineSimilarity(embeddings_dict[word], embeddings_dict[w])\n",
        "      for w in embeddings_dict\n",
        "      if w != word\n",
        "  }\n",
        "\n",
        "  # initialize array to store similar words\n",
        "  similarWords = []\n",
        "\n",
        "  for i in range(top_n):\n",
        "    similar = max(similaritiesByWord, key=similaritiesByWord.get)       # computes the most similar word\n",
        "    similarWords.append(similar)                                        # saves the most similar word\n",
        "    similaritiesByWord.pop(similar)                                     # removes word in order to compute another similar word\n",
        "\n",
        "  return similarWords"
      ],
      "metadata": {
        "id": "trXMMb2W6h6B"
      },
      "id": "trXMMb2W6h6B",
      "execution_count": 141,
      "outputs": []
    },
    {
      "cell_type": "code",
      "source": [
        "most_similar = find_most_similar('mexico', embeddings_dict)"
      ],
      "metadata": {
        "id": "TQNwFMqJ-nuE"
      },
      "id": "TQNwFMqJ-nuE",
      "execution_count": 142,
      "outputs": []
    },
    {
      "cell_type": "code",
      "source": [
        "for i, w in enumerate(most_similar, 1):\n",
        "    print(f'{i} ---> {w}')"
      ],
      "metadata": {
        "colab": {
          "base_uri": "https://localhost:8080/"
        },
        "id": "XvYhmHfB-o_Z",
        "outputId": "fb2ba9c0-a356-4988-e796-59a38b3a6f72"
      },
      "id": "XvYhmHfB-o_Z",
      "execution_count": 143,
      "outputs": [
        {
          "output_type": "stream",
          "name": "stdout",
          "text": [
            "1 ---> mexican\n",
            "2 ---> venezuela\n",
            "3 ---> colombia\n",
            "4 ---> peru\n",
            "5 ---> chile\n",
            "6 ---> puerto\n",
            "7 ---> rico\n",
            "8 ---> cuba\n",
            "9 ---> guatemala\n",
            "10 ---> panama\n"
          ]
        }
      ]
    },
    {
      "cell_type": "code",
      "execution_count": null,
      "id": "0003ce18",
      "metadata": {
        "id": "0003ce18"
      },
      "outputs": [],
      "source": [
        "# analogy\n",
        "def analogy(word1, word2, word3, embeddings_dict):\n",
        "    return"
      ]
    },
    {
      "cell_type": "code",
      "execution_count": null,
      "id": "9c02ec01",
      "metadata": {
        "id": "9c02ec01"
      },
      "outputs": [],
      "source": [
        "analogy('man', 'king', 'woman', embeddings_dict)"
      ]
    },
    {
      "cell_type": "code",
      "execution_count": null,
      "id": "fe1a9fad",
      "metadata": {
        "id": "fe1a9fad"
      },
      "outputs": [],
      "source": []
    }
  ],
  "metadata": {
    "kernelspec": {
      "display_name": "Python 3 (ipykernel)",
      "language": "python",
      "name": "python3"
    },
    "language_info": {
      "codemirror_mode": {
        "name": "ipython",
        "version": 3
      },
      "file_extension": ".py",
      "mimetype": "text/x-python",
      "name": "python",
      "nbconvert_exporter": "python",
      "pygments_lexer": "ipython3",
      "version": "3.9.0"
    },
    "varInspector": {
      "cols": {
        "lenName": 16,
        "lenType": 16,
        "lenVar": 40
      },
      "kernels_config": {
        "python": {
          "delete_cmd_postfix": "",
          "delete_cmd_prefix": "del ",
          "library": "var_list.py",
          "varRefreshCmd": "print(var_dic_list())"
        },
        "r": {
          "delete_cmd_postfix": ") ",
          "delete_cmd_prefix": "rm(",
          "library": "var_list.r",
          "varRefreshCmd": "cat(var_dic_list()) "
        }
      },
      "types_to_exclude": [
        "module",
        "function",
        "builtin_function_or_method",
        "instance",
        "_Feature"
      ],
      "window_display": false
    },
    "colab": {
      "provenance": []
    }
  },
  "nbformat": 4,
  "nbformat_minor": 5
}